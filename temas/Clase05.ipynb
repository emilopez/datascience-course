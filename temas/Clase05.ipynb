{
 "cells": [
  {
   "cell_type": "markdown",
   "metadata": {
    "slideshow": {
     "slide_type": "slide"
    }
   },
   "source": [
    "# Clase 5\n",
    "Docente: Emiliano López - ``emiliano.lopez@gmail.com`` \n",
    "- Fecha: 22-09-2022\n",
    "- Unidad 1\n",
    "- Temas:\n",
    "    - Diccionarios.\n",
    "    - Funciones"
   ]
  },
  {
   "cell_type": "markdown",
   "metadata": {
    "slideshow": {
     "slide_type": "skip"
    }
   },
   "source": [
    "## Diccionarios\n",
    "\n",
    "- Contenedor donde cada elemento se denomina **item**\n",
    "- Cada item está formado por **un par** denominado clave y valor (**key**, **value**).\n",
    "- Se denomina diccionario por su similitud a un diccionario real, hay un término denominado clave, y luego su significado es el valor. \n",
    "- Al igual que las listas es iterable, esto significa que lo ponemos en un for y funciona. \n",
    "- **A diferencia de las listas NO ACCEDEMOS a través de un índice numérico, sino a través de su clave**."
   ]
  },
  {
   "cell_type": "code",
   "execution_count": 1,
   "metadata": {
    "slideshow": {
     "slide_type": "skip"
    }
   },
   "outputs": [],
   "source": [
    "# crearlo con determinado contenido\n",
    "agenda = {\"charly\": \"153243989\", \n",
    "          \"nicki\": \"4554129\", \n",
    "          \"fito\": [\"34144566\", \"11434567\"], \n",
    "          \"rosalia\":[\"54789631\",\"442214563\"]}"
   ]
  },
  {
   "cell_type": "code",
   "execution_count": 5,
   "metadata": {},
   "outputs": [
    {
     "name": "stdout",
     "output_type": "stream",
     "text": [
      "{'charly': '153243989', 'nicki': '4554129', 'fito': ['34144566', '11434567'], 'rosalia': ['54789631', '442214563']}\n"
     ]
    },
    {
     "data": {
      "text/plain": [
       "dict"
      ]
     },
     "execution_count": 5,
     "metadata": {},
     "output_type": "execute_result"
    }
   ],
   "source": [
    "#contenido\n",
    "print(agenda)\n",
    "\n",
    "#tipo?\n",
    "type(agenda)"
   ]
  },
  {
   "cell_type": "markdown",
   "metadata": {},
   "source": [
    "**Agregar items individuales**"
   ]
  },
  {
   "cell_type": "code",
   "execution_count": 7,
   "metadata": {},
   "outputs": [],
   "source": [
    "## alfabeto[key] = value para esa key\n",
    "alfabeto = {}\n",
    "alfabeto['a'] = 'alpha'\n",
    "alfabeto['g'] = 'gamma'\n",
    "alfabeto['o'] = 'omega'"
   ]
  },
  {
   "cell_type": "markdown",
   "metadata": {},
   "source": [
    "<img src=\"img/dict.png\">"
   ]
  },
  {
   "cell_type": "markdown",
   "metadata": {},
   "source": [
    "**Diferentes constructores para un diccionario**"
   ]
  },
  {
   "cell_type": "code",
   "execution_count": 22,
   "metadata": {},
   "outputs": [],
   "source": [
    "otro_dic = {}\n",
    "y_otro = dict()\n",
    "\n",
    "# **ATENNCION** a las claves sin comillas aunque sean str\n",
    "\n",
    "de_nuevo = dict(fecha = [\"22/09/2022\", \"23/09/2022\"], \n",
    "                altura = [3.54, 3.45])"
   ]
  },
  {
   "cell_type": "markdown",
   "metadata": {},
   "source": [
    "**Acceso a los valores del diccionario**"
   ]
  },
  {
   "cell_type": "code",
   "execution_count": 8,
   "metadata": {
    "slideshow": {
     "slide_type": "skip"
    }
   },
   "outputs": [
    {
     "name": "stdout",
     "output_type": "stream",
     "text": [
      "153243989\n",
      "omega\n"
     ]
    }
   ],
   "source": [
    "print(agenda[\"charly\"])\n",
    "print(alfabeto[\"o\"])"
   ]
  },
  {
   "cell_type": "code",
   "execution_count": 11,
   "metadata": {
    "slideshow": {
     "slide_type": "skip"
    }
   },
   "outputs": [
    {
     "data": {
      "text/plain": [
       "'994433'"
      ]
     },
     "execution_count": 11,
     "metadata": {},
     "output_type": "execute_result"
    }
   ],
   "source": [
    "agenda[\"pappo\"]"
   ]
  },
  {
   "cell_type": "markdown",
   "metadata": {},
   "source": [
    "**Agregar un nuevo item**"
   ]
  },
  {
   "cell_type": "code",
   "execution_count": 10,
   "metadata": {
    "slideshow": {
     "slide_type": "skip"
    }
   },
   "outputs": [],
   "source": [
    "agenda[\"pappo\"] = \"994433\""
   ]
  },
  {
   "cell_type": "markdown",
   "metadata": {},
   "source": [
    "**Iterar sobre el diccionario con un for**"
   ]
  },
  {
   "cell_type": "code",
   "execution_count": 16,
   "metadata": {},
   "outputs": [
    {
     "data": {
      "text/plain": [
       "'153243989'"
      ]
     },
     "execution_count": 16,
     "metadata": {},
     "output_type": "execute_result"
    }
   ],
   "source": []
  },
  {
   "cell_type": "code",
   "execution_count": 18,
   "metadata": {
    "slideshow": {
     "slide_type": "skip"
    }
   },
   "outputs": [
    {
     "name": "stdout",
     "output_type": "stream",
     "text": [
      "charly 153243989\n",
      "nicki 4554129\n",
      "fito ['34144566', '11434567']\n",
      "rosalia ['54789631', '442214563']\n",
      "pappo 994433\n"
     ]
    }
   ],
   "source": [
    "# recorremos por defecto\n",
    "for k in agenda:\n",
    "    print(k, agenda[k])"
   ]
  },
  {
   "cell_type": "code",
   "execution_count": 19,
   "metadata": {
    "slideshow": {
     "slide_type": "skip"
    }
   },
   "outputs": [
    {
     "name": "stdout",
     "output_type": "stream",
     "text": [
      "charly 153243989\n",
      "nicki 4554129\n",
      "fito ['34144566', '11434567']\n",
      "rosalia ['54789631', '442214563']\n",
      "pappo 994433\n"
     ]
    }
   ],
   "source": [
    "# recorremos clave y valor\n",
    "for clave,valor in agenda.items():\n",
    "    print(clave,valor)"
   ]
  },
  {
   "cell_type": "markdown",
   "metadata": {},
   "source": [
    "**Corroborar si existe una clave**"
   ]
  },
  {
   "cell_type": "code",
   "execution_count": 25,
   "metadata": {},
   "outputs": [
    {
     "data": {
      "text/plain": [
       "False"
      ]
     },
     "execution_count": 25,
     "metadata": {},
     "output_type": "execute_result"
    }
   ],
   "source": [
    "agenda.get(\"los palmeras\", False)"
   ]
  },
  {
   "cell_type": "code",
   "execution_count": 28,
   "metadata": {},
   "outputs": [
    {
     "name": "stdout",
     "output_type": "stream",
     "text": [
      "No está en la agenda\n"
     ]
    }
   ],
   "source": [
    "print(agenda.get(\"los palmeras\", \"No está en la agenda\"))"
   ]
  },
  {
   "cell_type": "code",
   "execution_count": 27,
   "metadata": {},
   "outputs": [
    {
     "name": "stdout",
     "output_type": "stream",
     "text": [
      "No está en la agenda\n"
     ]
    }
   ],
   "source": [
    "# corroborar si existe una clave sin que explote \n",
    "if agenda.get(\"los palmeras\", False) == False:\n",
    "    print(\"No está en la agenda\")\n",
    "else:\n",
    "    print(agenda[\"los palmeras\"])"
   ]
  },
  {
   "cell_type": "code",
   "execution_count": 11,
   "metadata": {
    "slideshow": {
     "slide_type": "skip"
    }
   },
   "outputs": [
    {
     "data": {
      "text/plain": [
       "NoneType"
      ]
     },
     "execution_count": 12,
     "metadata": {},
     "output_type": "execute_result"
    }
   ],
   "source": [
    "agenda.get(\"los palmeras\")"
   ]
  },
  {
   "cell_type": "markdown",
   "metadata": {
    "slideshow": {
     "slide_type": "skip"
    }
   },
   "source": [
    "### Ejercicio 1\n",
    "\n",
    "- Usando alguno de los archivos de texto, ¿Cuánto se repitió cada vocal?\n",
    "- **Recordemos el uso de una lista para múltiples contadores**"
   ]
  },
  {
   "cell_type": "code",
   "execution_count": 60,
   "metadata": {
    "slideshow": {
     "slide_type": "skip"
    }
   },
   "outputs": [
    {
     "data": {
      "text/plain": [
       "{'a': 13, 'e': 4, 'i': 3, 'o': 3, 'u': 2}"
      ]
     },
     "execution_count": 60,
     "metadata": {},
     "output_type": "execute_result"
    }
   ],
   "source": [
    "# cuanto se repitió cada vocal\n",
    "textito = 'aaaaeeeeHAAAasdfaslñdf oiiioouusdkf jasdñklf jsadf'\n",
    "\n",
    "cant_vocales = {\"a\":0, \"e\":0, \"i\":0, \"o\":0, \"u\":0}\n",
    "\n",
    "for una_letra in textito:\n",
    "    letra_min = una_letra.lower()\n",
    "    if cant_vocales.get(letra_min) != None:\n",
    "        cant_vocales[letra_min] += 1\n",
    "\n",
    "cant_vocales"
   ]
  },
  {
   "cell_type": "code",
   "execution_count": 56,
   "metadata": {},
   "outputs": [
    {
     "data": {
      "text/plain": [
       "True"
      ]
     },
     "execution_count": 56,
     "metadata": {},
     "output_type": "execute_result"
    }
   ],
   "source": [
    "aaa = agenda.get(\"charlasssy\") == None\n",
    "aaa"
   ]
  },
  {
   "cell_type": "markdown",
   "metadata": {},
   "source": [
    "### Ejercicio 2\n",
    "\n",
    "- El archivo ``altura_rio.csv`` contiene la altura del Río Paraná para determinadas fechas. Realice la lectura de este archivo de modo tal que cargue en cada columna en una lista diferente (fecha y altura). Cree un diccionario que contenga toda esta información de modo que cada clave asocie a los datos cargados en su lista correspondiente.\n",
    "\n",
    "| fecha y hora   | altura |\n",
    "|----------------|--------|\n",
    "| 26/07/17 00:00 | 4.28   |\n",
    "| 26/07/17 12:00 | 4.25   |\n",
    "| 27/07/17 00:00 | 4.2    |\n",
    "| ...            | ...    |"
   ]
  },
  {
   "cell_type": "code",
   "execution_count": 61,
   "metadata": {},
   "outputs": [],
   "source": [
    "contenido = open(\"datos/altura_rio.csv\").readlines()\n",
    "\n",
    "# inicializamos\n",
    "datos = {\"fecha\" :[],\n",
    "         \"hora\"  :[],\n",
    "         \"altura\":[]}"
   ]
  },
  {
   "cell_type": "code",
   "execution_count": 6,
   "metadata": {},
   "outputs": [],
   "source": [
    "for un_renglon in contenido:\n",
    "    fechayhora, altura = un_renglon.split(\",\")\n",
    "    fecha, hora = fechayhora.split()\n",
    "    altura      = float(altura)\n",
    "    datos[\"fecha\" ].append(fecha)\n",
    "    datos[\"hora\"  ].append(hora)\n",
    "    datos[\"altura\"].append(altura)"
   ]
  },
  {
   "cell_type": "code",
   "execution_count": null,
   "metadata": {},
   "outputs": [],
   "source": [
    "# otra forma de hacer lo mismo: armo las 3 listas, luego el dic\n",
    "lista_fecha = []\n",
    "lista_hora = []\n",
    "lista_altura = []\n",
    "for un_renglon in contenido:\n",
    "    fechayhora, altura = un_renglon.split(\",\")\n",
    "    fecha, hora = fechayhora.split()\n",
    "    altura      = float(altura)\n",
    "    lista_fecha.append(fecha)\n",
    "    lista_hora.append(hora)\n",
    "    lista_altura.append(altura)\n",
    "\n",
    "datos = {\"fecha\":lista_fecha,\n",
    "         \"hora\" :lista_hora,\n",
    "         \"altura\":lista_altura}"
   ]
  },
  {
   "cell_type": "code",
   "execution_count": 12,
   "metadata": {},
   "outputs": [
    {
     "data": {
      "text/plain": [
       "[4.28, 4.25, 4.2, 4.18, 4.18, 4.15, 4.13, 4.1, 4.03, 4.03, 3.99]"
      ]
     },
     "execution_count": 12,
     "metadata": {},
     "output_type": "execute_result"
    }
   ],
   "source": [
    "datos[\"altura\"][:11]"
   ]
  },
  {
   "cell_type": "markdown",
   "metadata": {},
   "source": [
    "## Funciones y módulos\n",
    "\n",
    "- muy pero muy introductorio"
   ]
  },
  {
   "cell_type": "markdown",
   "metadata": {},
   "source": [
    "- Las funciones son **subprogramas** que realizan una tarea específica\n",
    "- Se las identifica con un nombre, por ejemplo: `len`, `int`\n",
    "- Son capaces de recibir y retornar información desde donde fueron son invocadas.\n",
    "- Cuando una función es invocada, el programa principal transfiere el control a la función hasta que finalice su ejecución, volviendo luego al punto desde donde fue llamada. \n",
    "- La función `len()` retorna un valor numérico entero que representa la cantidad de elementos de una secuencia que recibió como entrada.\n",
    "- Veamos cómo definir nuestras propias funciones.\n",
    "\n",
    "`El secreto de hacer apps grandes es nunca hacer apps grandes. Partí la app en pequeñas piezas. Luego, ensamblá esas piezas del tamaño de un bocado en una gran app.`\n",
    "\n",
    "- Su estructura es la siguiente:\n",
    "\n",
    "```python\n",
    "def nombre_funcion(param1, param2, ..., paramN):\n",
    "    \"\"\"descripcion corta de lo que hace la funcion\"\"\"\n",
    "    accion1\n",
    "    accion2\n",
    "    accionN\n",
    "    return RESULTADO/S\n",
    "x = nombre_funcion(arg1,arg2, ...argN)\n",
    "```\n",
    "\n",
    "- y el **help** de la función?"
   ]
  },
  {
   "cell_type": "markdown",
   "metadata": {},
   "source": [
    "### Ejercicio 3\n",
    "\n",
    "- Crear una función `contar_vocales()` en un archivo denominado `funciontextos.py`. Esa función recibirá un `str` y retornará un diccionario con la cantidad repeticiones de cada vocal, su uso debería ser el siguiente:\n",
    "\n",
    "```python\n",
    "import misfuncionestexto as funtex\n",
    "\n",
    "cant_vocales = funtex.contar_vocales(\"estoy contando las vocales de este textito\")\n",
    "...\n",
    "```"
   ]
  },
  {
   "cell_type": "code",
   "execution_count": 2,
   "metadata": {},
   "outputs": [
    {
     "name": "stdout",
     "output_type": "stream",
     "text": [
      "a 4\n",
      "e 2\n",
      "i 2\n",
      "o 4\n",
      "u 1\n"
     ]
    }
   ],
   "source": [
    "import misfuncionestexto as mft\n",
    "\n",
    "otro_texto = \"los astros tiritan azules a lo lejos\"\n",
    "\n",
    "resultado = mft.contar_vocales(otro_texto)\n",
    "for letra,cant in resultado.items():\n",
    "    print(letra, cant)"
   ]
  },
  {
   "cell_type": "code",
   "execution_count": null,
   "metadata": {},
   "outputs": [],
   "source": []
  },
  {
   "cell_type": "markdown",
   "metadata": {},
   "source": [
    "### Ejercicio 4\n",
    "\n",
    "- Agregue al archivo `funciontextos.py` una segunda función denominada `contar_consonantes()` con un comportamiento similar a la función previa aplicado a las consonantes. \n",
    "\n",
    "### Ejercicio 5\n",
    "\n",
    "- Haga uso de la función previa para contar las vocales en todos los archivos de texto ubicados en el directorio `textos`"
   ]
  },
  {
   "cell_type": "markdown",
   "metadata": {},
   "source": [
    "### Ejercicio 6\n",
    "\n",
    "- Cree otro archivo denominado `funcionfechas.py` con una función denominada `nacimientos_por_hora()`. Esta función recibe la lista del contenido del archivo `queloscumplas.txt` y retorna una lista con la cantidad de nacimientos por hora (0 a 23).\n"
   ]
  }
 ],
 "metadata": {
  "celltoolbar": "Slideshow",
  "kernelspec": {
   "display_name": "Python 3 (ipykernel)",
   "language": "python",
   "name": "python3"
  },
  "language_info": {
   "codemirror_mode": {
    "name": "ipython",
    "version": 3
   },
   "file_extension": ".py",
   "mimetype": "text/x-python",
   "name": "python",
   "nbconvert_exporter": "python",
   "pygments_lexer": "ipython3",
   "version": "3.8.5"
  }
 },
 "nbformat": 4,
 "nbformat_minor": 4
}
