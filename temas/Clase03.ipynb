{
 "cells": [
  {
   "cell_type": "markdown",
   "metadata": {
    "slideshow": {
     "slide_type": "slide"
    }
   },
   "source": [
    "# Clase 3: procesando datos con python\n",
    "Docente: Emiliano López - ``emiliano.lopez@gmail.com`` \n",
    "- Fecha: 08-08-2022\n",
    "- Unidad: **Conceptos básicos**\n",
    "- Temas:\n",
    "    - Repaso de clase previa\n",
    "    - Lectura y escritura de datos en pantalla: ``print()`` e ``input()``\n",
    "    - Operaciones y comparaciones con distintos tipos de datos\n",
    "    - Ciclos repetitivos: ``for``, ``while``\n",
    "    - Condicionales: ``if``, ``if-else``, ``if-elif-else``\n",
    "    - Rangos: ``range()``\n",
    "    - Contenedor: lista (``list``)  \n",
    "    - Importar librerías externas\n",
    "- Bibliografía\n",
    "    - Tutorial de Python oficial, pag. 8 a 14.\n",
    "    - Introducción al desarrollo de software, Tecnicatura Universitaria en Software Libre. Unidad 3.\n",
    "    - guía de estilo de codificación https://www.python.org/dev/peps/pep-0008/"
   ]
  },
  {
   "cell_type": "markdown",
   "metadata": {
    "slideshow": {
     "slide_type": "skip"
    }
   },
   "source": [
    "**Con esto instalamos jupyter slideshow extension** permite tener slides vivas (editables)\n",
    "\n",
    "``pip install rise``"
   ]
  },
  {
   "cell_type": "code",
   "execution_count": 14,
   "metadata": {},
   "outputs": [
    {
     "name": "stdout",
     "output_type": "stream",
     "text": [
      "enero:  77\n",
      "febrero:  65\n",
      "marzo:  86\n"
     ]
    }
   ],
   "source": [
    "# ejercicio 7: ¿Cuántos nacimientos hubo en cada mes?\n",
    "\n",
    "archi = open(\"datos/queloscumplas.txt\")\n",
    "contenido = archi.readlines()\n",
    "\n",
    "ene,feb,mar = 0,0,0\n",
    "\n",
    "for una_fecha in contenido:\n",
    "    mes = una_fecha.split(\"-\")[1]\n",
    "    if mes == \"01\":\n",
    "        ene += 1 # lo mismo que ene = ene + 1\n",
    "    if mes == \"02\":\n",
    "        feb += 1\n",
    "    if mes == \"03\":\n",
    "        mar += 1\n",
    "\n",
    "print(\"enero: \", ene)\n",
    "print(\"febrero: \", feb)\n",
    "print(\"marzo: \", mar)"
   ]
  },
  {
   "cell_type": "code",
   "execution_count": 35,
   "metadata": {},
   "outputs": [
    {
     "name": "stdout",
     "output_type": "stream",
     "text": [
      "ene : 77\n",
      "feb : 65\n",
      "mar : 86\n",
      "abr : 72\n",
      "may : 91\n",
      "jun : 83\n",
      "jul : 98\n",
      "ago : 74\n",
      "sep : 89\n",
      "oct : 88\n",
      "nov : 98\n",
      "dic : 79\n"
     ]
    }
   ],
   "source": [
    "# listita = [\"hola\", 3.14, 10]\n",
    "# print(3*listita)\n",
    "\n",
    "\n",
    "# ejercicio 7: ¿Cuántos nacimientos hubo en cada mes?\n",
    "\n",
    "archi = open(\"datos/queloscumplas.txt\")\n",
    "contenido = archi.readlines()\n",
    "\n",
    "contadores = [0]*12\n",
    "\n",
    "for una_fecha in contenido:\n",
    "    mes = una_fecha.split(\"-\")[1]\n",
    "    mes = int(mes)\n",
    "    contadores[mes-1] += 1\n",
    "\n",
    "meses = \"ene feb mar abr may jun jul ago sep oct nov dic\".split()\n",
    "pos = 0\n",
    "for mes in meses:\n",
    "    print(meses[pos], \":\", contadores[pos])\n",
    "    pos += 1"
   ]
  },
  {
   "cell_type": "code",
   "execution_count": 36,
   "metadata": {},
   "outputs": [
    {
     "name": "stdout",
     "output_type": "stream",
     "text": [
      "ene : 77\n",
      "feb : 65\n",
      "mar : 86\n",
      "abr : 72\n",
      "may : 91\n",
      "jun : 83\n",
      "jul : 98\n",
      "ago : 74\n",
      "sep : 89\n",
      "oct : 88\n",
      "nov : 98\n",
      "dic : 79\n"
     ]
    }
   ],
   "source": [
    "# solucion pythonica\n",
    "for mes,cant in zip(meses, contadores):\n",
    "    print(mes,\":\" ,cant)"
   ]
  },
  {
   "cell_type": "code",
   "execution_count": 40,
   "metadata": {},
   "outputs": [
    {
     "name": "stdout",
     "output_type": "stream",
     "text": [
      "En ene nacieron 77 personas\n",
      "En feb nacieron 65 personas\n",
      "En mar nacieron 86 personas\n",
      "En abr nacieron 72 personas\n",
      "En may nacieron 91 personas\n",
      "En jun nacieron 83 personas\n",
      "En jul nacieron 98 personas\n",
      "En ago nacieron 74 personas\n",
      "En sep nacieron 89 personas\n",
      "En oct nacieron 88 personas\n",
      "En nov nacieron 98 personas\n",
      "En dic nacieron 79 personas\n"
     ]
    }
   ],
   "source": [
    "for pos, mes in enumerate(meses):\n",
    "    #print(mes, \":\", contadores[pos])\n",
    "    print(f\"En {mes} nacieron {contadores[pos]} personas\")"
   ]
  },
  {
   "cell_type": "markdown",
   "metadata": {
    "slideshow": {
     "slide_type": "slide"
    }
   },
   "source": [
    "## Repaso \n",
    "\n",
    "### 1/3"
   ]
  },
  {
   "cell_type": "markdown",
   "metadata": {
    "slideshow": {
     "slide_type": "fragment"
    }
   },
   "source": [
    "- Lectura un archivo en un contenedor de tipo lista (``list``)"
   ]
  },
  {
   "cell_type": "code",
   "execution_count": 9,
   "metadata": {
    "slideshow": {
     "slide_type": "fragment"
    }
   },
   "outputs": [],
   "source": [
    "archi = open(\"datos/queloscumplas.txt\")\n",
    "contenido = archi.readlines()"
   ]
  },
  {
   "cell_type": "code",
   "execution_count": 8,
   "metadata": {},
   "outputs": [
    {
     "data": {
      "text/plain": [
       "['2006-12-26 00:19:55\\n',\n",
       " '1986-10-18 08:15:07\\n',\n",
       " '1989-12-20 03:56:29\\n',\n",
       " '1985-09-23 03:30:59\\n',\n",
       " '1983-06-20 05:53:02\\n']"
      ]
     },
     "execution_count": 8,
     "metadata": {},
     "output_type": "execute_result"
    }
   ],
   "source": [
    "contenido"
   ]
  },
  {
   "cell_type": "markdown",
   "metadata": {
    "slideshow": {
     "slide_type": "fragment"
    }
   },
   "source": [
    "- Acceso a sus elementos a través de índices o rangos"
   ]
  },
  {
   "cell_type": "code",
   "execution_count": null,
   "metadata": {},
   "outputs": [],
   "source": [
    "contenido[10]\n",
    "desde = 5\n",
    "hasta = 9\n",
    "contenido[desde:hasta]"
   ]
  },
  {
   "cell_type": "markdown",
   "metadata": {
    "slideshow": {
     "slide_type": "slide"
    }
   },
   "source": [
    "###  2/3\n",
    "\n",
    "- Variables y sus tipos básicos: ``int``, ``str`` y ``float``"
   ]
  },
  {
   "cell_type": "code",
   "execution_count": null,
   "metadata": {
    "slideshow": {
     "slide_type": "fragment"
    }
   },
   "outputs": [],
   "source": [
    "mes, alquiler  = \"octubre\", 10233.30 "
   ]
  },
  {
   "cell_type": "code",
   "execution_count": null,
   "metadata": {
    "slideshow": {
     "slide_type": "fragment"
    }
   },
   "outputs": [],
   "source": [
    "type(mes)"
   ]
  },
  {
   "cell_type": "code",
   "execution_count": null,
   "metadata": {
    "slideshow": {
     "slide_type": "fragment"
    }
   },
   "outputs": [],
   "source": [
    "type(alquiler)"
   ]
  },
  {
   "cell_type": "markdown",
   "metadata": {
    "slideshow": {
     "slide_type": "fragment"
    }
   },
   "source": [
    "**OJO**, en el notebook los resultados se muestran sin que haga falta usar ``print()`` porque es interactivo, pero en un programa debemos usar ``print()``"
   ]
  },
  {
   "cell_type": "markdown",
   "metadata": {
    "slideshow": {
     "slide_type": "slide"
    }
   },
   "source": [
    "### 3/3\n",
    "\n",
    "- Ciclo repetitivo/iterativo ``for``"
   ]
  },
  {
   "cell_type": "code",
   "execution_count": null,
   "metadata": {
    "slideshow": {
     "slide_type": "fragment"
    }
   },
   "outputs": [],
   "source": [
    "for e in contenido[3:6]:\n",
    "    print(e)"
   ]
  },
  {
   "cell_type": "markdown",
   "metadata": {
    "slideshow": {
     "slide_type": "fragment"
    }
   },
   "source": [
    "- Descartamos o seleccionamos mediante el método ``split()``, por ejemplo para ver solamente la hora:"
   ]
  },
  {
   "cell_type": "code",
   "execution_count": null,
   "metadata": {
    "slideshow": {
     "slide_type": "fragment"
    }
   },
   "outputs": [],
   "source": [
    "for e in contenido[3:6]:\n",
    "    fecha, hora = e.split()\n",
    "    print(hora)"
   ]
  },
  {
   "cell_type": "markdown",
   "metadata": {
    "slideshow": {
     "slide_type": "slide"
    }
   },
   "source": [
    "### Actividad repaso\n",
    "\n",
    "- Abrimos **spyder**\n",
    "- Hacer un programa que muestre solamente los minutos de los datos que van del renglón 20 al 30 inclusive. Guardamos el programa con nombre ``repaso1.py``\n",
    "- Ejecutamos el mismo programa desde la consola: abrimos la consola de anaconda para ejecutarlo escribimos en la línea de comandos: ``python repaso1.py``"
   ]
  },
  {
   "cell_type": "markdown",
   "metadata": {},
   "source": [
    "## 2.1 Entrada/salida estándar\n",
    "\n",
    "### Salida por pantalla\n",
    "\n",
    "Veamos en mayor profundidad la función ``print()`` haciendo uso de la ayuda"
   ]
  },
  {
   "cell_type": "code",
   "execution_count": null,
   "metadata": {},
   "outputs": [],
   "source": [
    "help(print)"
   ]
  },
  {
   "cell_type": "code",
   "execution_count": null,
   "metadata": {},
   "outputs": [],
   "source": [
    "a = 10\n",
    "print(a, a, a)"
   ]
  },
  {
   "cell_type": "code",
   "execution_count": null,
   "metadata": {},
   "outputs": [],
   "source": [
    "# imprimimos varios objetos a la vez\n",
    "a, cancion, grupo, c = 12.333, \"Black bird\", \"The Beatles\",  99000\n",
    "print(a, cancion, grupo, c)"
   ]
  },
  {
   "cell_type": "code",
   "execution_count": null,
   "metadata": {},
   "outputs": [],
   "source": [
    "# usemos un separador diferente al usado por defecto\n",
    "print(a, cancion, grupo, c, sep=\";\")"
   ]
  },
  {
   "cell_type": "code",
   "execution_count": null,
   "metadata": {},
   "outputs": [],
   "source": [
    "# usemos un finalizador diferente al salto de línea (enter)\n",
    "print(a, cancion, end=\";\")\n",
    "print(grupo, c, end=\"----\")\n",
    "print(grupo, c)"
   ]
  },
  {
   "cell_type": "markdown",
   "metadata": {},
   "source": [
    "Vimos que el tipo de dato ``str`` soporta ciertas operaciones. Veamos qué sucede si sumamos las cadenas almacenadas en las variables cancion y grupo:"
   ]
  },
  {
   "cell_type": "code",
   "execution_count": null,
   "metadata": {},
   "outputs": [],
   "source": [
    "# sumamos dos cadenas\n",
    "r = cancion + grupo\n",
    "print(r)"
   ]
  },
  {
   "cell_type": "code",
   "execution_count": null,
   "metadata": {},
   "outputs": [],
   "source": [
    "# Dejemos una coma entre ellas\n",
    "r = cancion + \", \" + grupo\n",
    "print(r)"
   ]
  },
  {
   "cell_type": "markdown",
   "metadata": {},
   "source": [
    "Si quisiéramos armar un mensaje que involucre las dos cadenas podríamos hacerlo del siguiente modo:"
   ]
  },
  {
   "cell_type": "code",
   "execution_count": null,
   "metadata": {},
   "outputs": [],
   "source": [
    "print(\"La canción \" + cancion + \" es del grupo \" + grupo)"
   ]
  },
  {
   "cell_type": "markdown",
   "metadata": {},
   "source": [
    "A partir de Python 3.6 contamos con cadenas llamadas **f-strings**, cuya característica principal es la combinación de cadenas y variables sin tener que concatenaras, por lo que el código resultante es mas limpio y comprensible, veamos: "
   ]
  },
  {
   "cell_type": "code",
   "execution_count": null,
   "metadata": {},
   "outputs": [],
   "source": [
    "print(f\"La canción {cancion} es del grupo {grupo}\")"
   ]
  },
  {
   "cell_type": "markdown",
   "metadata": {},
   "source": [
    "Debemos notar que se antepone al comienzo de la candena el caracter *f* y luego entre llaves las variables que serán reemplazadas por su contenido. Hagamos uso de todas esta funcionalidades en la siguiente actividad"
   ]
  },
  {
   "cell_type": "markdown",
   "metadata": {},
   "source": [
    "#### Actividad 2.1\n",
    "\n",
    "Usando jupyter o spyder programar las siguientes tareas:\n",
    "\n",
    "- Mostrar los 10 primeros meses del archivo ``queloscumplas.txt`` en forma consecutiva, separados por punto y coma (\";\").\n",
    "- Mostrar las últimas 10 fechas en un renglón diferente pero usando el formato ``dd/mm/aaaa hh:mm:ss``\n",
    "- Mostrar las 10 fechas desde la posición 500 con el mensaje \"Nació el dd/mm/aaaa a la hora hh:mm:ss\""
   ]
  },
  {
   "cell_type": "code",
   "execution_count": null,
   "metadata": {},
   "outputs": [],
   "source": [
    "contenido = open(\"datos/queloscumplas.txt\").readlines()\n",
    "for i in contenido[500:510]:\n",
    "    fecha, hora = i.split()\n",
    "    aaaa, mm, dd = fecha.split(\"-\")\n",
    "    print(f\"Nació {dd}/{mm}/{aaaa} a la hora {hora}\")"
   ]
  },
  {
   "cell_type": "markdown",
   "metadata": {},
   "source": [
    "### Entrada por teclado\n",
    "\n",
    "La manera mas simple de ingresar datos a un programa es mediante el teclado usando la función ``input()``. Veamos en el intérprete interactivo (ya sea dentro de spyder o en la terminal) lo que nos dice la ayuda sobre su uso.\n"
   ]
  },
  {
   "cell_type": "code",
   "execution_count": 41,
   "metadata": {},
   "outputs": [
    {
     "name": "stdout",
     "output_type": "stream",
     "text": [
      " 222\n"
     ]
    }
   ],
   "source": [
    "dato = input()"
   ]
  },
  {
   "cell_type": "code",
   "execution_count": 42,
   "metadata": {},
   "outputs": [
    {
     "data": {
      "text/plain": [
       "'222'"
      ]
     },
     "execution_count": 42,
     "metadata": {},
     "output_type": "execute_result"
    }
   ],
   "source": [
    "dato"
   ]
  },
  {
   "cell_type": "code",
   "execution_count": 45,
   "metadata": {},
   "outputs": [
    {
     "name": "stdout",
     "output_type": "stream",
     "text": [
      "Ingrese su nombre 333.15\n"
     ]
    }
   ],
   "source": [
    "dato = input(\"Ingrese su nombre\")"
   ]
  },
  {
   "cell_type": "code",
   "execution_count": 46,
   "metadata": {},
   "outputs": [
    {
     "name": "stdout",
     "output_type": "stream",
     "text": [
      "<class 'str'>\n"
     ]
    }
   ],
   "source": [
    "# Veamos el tipo del dato ingresado\n",
    "print(type(dato))"
   ]
  },
  {
   "cell_type": "markdown",
   "metadata": {},
   "source": [
    "### Conversión de tipos\n",
    "\n",
    "Para convertir entre tipos básicos usuales tenemos las siguientes funciones:\n",
    "\n",
    "- int()\n",
    "- float()\n",
    "- str()\n",
    "\n",
    "Estas funciones logran su cometido siempre que sea posible, esto es, la cadena \"3.4\" puede convertirse en un número flotante, pero NO en un entero. Sin embargo, el número flotante 3.3 sí puede convertirse a un entero, ya que trunca su parte decimal."
   ]
  },
  {
   "cell_type": "code",
   "execution_count": null,
   "metadata": {},
   "outputs": [],
   "source": [
    "# la cadena \"3.3\"\n",
    "r = \"3.3\""
   ]
  },
  {
   "cell_type": "code",
   "execution_count": null,
   "metadata": {},
   "outputs": [],
   "source": [
    "# f almacena el número 3.3\n",
    "f = float(r)\n",
    "\n",
    "# n almacena...\n",
    "n = int(f)"
   ]
  },
  {
   "cell_type": "code",
   "execution_count": null,
   "metadata": {},
   "outputs": [],
   "source": [
    "# en cambio TODO tipo básico puede convertirse a cadena sin problemas\n",
    "num1 = 3.3\n",
    "str(num1)"
   ]
  },
  {
   "cell_type": "markdown",
   "metadata": {},
   "source": [
    "#### Actividad 2.2\n",
    "\n",
    "- Ingrese por teclado el nombre y edad de dos personas para luego calcular el promedio de edad\n",
    "\n",
    "- Usando el archivo de fechas ¿podríamos mostrar solo aquellas personas que nacieron en la primer quincena del mes?"
   ]
  },
  {
   "cell_type": "code",
   "execution_count": 50,
   "metadata": {},
   "outputs": [
    {
     "name": "stdout",
     "output_type": "stream",
     "text": [
      " 22\n",
      " 55\n"
     ]
    },
    {
     "name": "stdout",
     "output_type": "stream",
     "text": [
      "Promedio: 38.5\n"
     ]
    }
   ],
   "source": [
    "edad1 = int(input())\n",
    "edad2 = int(input())\n",
    "\n",
    "#edad1 = int(edad1)\n",
    "#edad2 = int(edad2)\n",
    "\n",
    "promedio = (edad1 + edad2)/2\n",
    "print(\"Promedio:\", promedio)"
   ]
  },
  {
   "cell_type": "markdown",
   "metadata": {},
   "source": [
    "## Condicionales\n",
    "\n",
    "Hasta ahora nuestros programas ejecutaban indefectiblemente una y otra vez las mismas líneas de código. Sin importar el contexto, los datos de entrada, cada línea se ejecuta al menos una vez. \n",
    "\n",
    "La herramienta fundamental de la programación estructurada que nos falta son los denominados condicionales. A partir de su uso añadimos a nuestros programas diferentes alternativas de ejecución. \n",
    "\n",
    "Generalmente se usan combinando operadores relacionales (``>, <, >=, <=, ==, !=``) y lógicos (``and, or, not``). Veamos la estructura más básica para mostrar diferentes mensajes dependiendo de un valor ingresado"
   ]
  },
  {
   "cell_type": "code",
   "execution_count": 52,
   "metadata": {},
   "outputs": [
    {
     "name": "stdout",
     "output_type": "stream",
     "text": [
      "Ingrese temperatura:  12\n"
     ]
    },
    {
     "name": "stdout",
     "output_type": "stream",
     "text": [
      "Esta fresco pa chomba\n",
      "que tengas un lindo día\n"
     ]
    }
   ],
   "source": [
    "temp = int(input(\"Ingrese temperatura: \"))\n",
    "\n",
    "if temp < 13:\n",
    "    print(\"Esta fresco pa chomba\")\n",
    "print(\"que tengas un lindo día\")"
   ]
  },
  {
   "cell_type": "code",
   "execution_count": 58,
   "metadata": {},
   "outputs": [
    {
     "name": "stdout",
     "output_type": "stream",
     "text": [
      "Ingresar temperatura 1:  33\n"
     ]
    },
    {
     "name": "stdout",
     "output_type": "stream",
     "text": [
      "Te recomiendo ir en cole\n",
      "que tengas un lindo día\n"
     ]
    },
    {
     "name": "stdout",
     "output_type": "stream",
     "text": [
      "Ingresar temperatura 2:  55\n"
     ]
    },
    {
     "name": "stdout",
     "output_type": "stream",
     "text": [
      "Te recomiendo ir en cole\n",
      "que tengas un lindo día\n"
     ]
    }
   ],
   "source": [
    "for i in range(2):\n",
    "    temp = int(input(f\"Ingresar temperatura {i+1}: \"))\n",
    "    if 10 < temp < 30:\n",
    "        print('Está lindo para ir en bici')\n",
    "    else:\n",
    "        print('Te recomiendo ir en cole')\n",
    "    print(\"que tengas un lindo día\")"
   ]
  },
  {
   "cell_type": "code",
   "execution_count": 59,
   "metadata": {},
   "outputs": [
    {
     "name": "stdout",
     "output_type": "stream",
     "text": [
      "No salgas, esperá el invierno\n"
     ]
    }
   ],
   "source": [
    "if 0 < temp <= 10:\n",
    "    print('Abrigrate bien')\n",
    "elif 10 < temp <= 30:\n",
    "    print('Está lindo para ir en bici')\n",
    "elif 30 < temp <= 34:\n",
    "    print('Te recomiendo ir en cole')\n",
    "else:\n",
    "    print(\"No salgas, esperá el invierno\")"
   ]
  },
  {
   "cell_type": "markdown",
   "metadata": {},
   "source": [
    "## Importando una librería"
   ]
  },
  {
   "cell_type": "code",
   "execution_count": 60,
   "metadata": {},
   "outputs": [],
   "source": [
    "import matplotlib"
   ]
  },
  {
   "cell_type": "code",
   "execution_count": 61,
   "metadata": {},
   "outputs": [
    {
     "data": {
      "text/plain": [
       "'3.3.4'"
      ]
     },
     "execution_count": 61,
     "metadata": {},
     "output_type": "execute_result"
    }
   ],
   "source": [
    "matplotlib.__version__"
   ]
  },
  {
   "cell_type": "code",
   "execution_count": 62,
   "metadata": {},
   "outputs": [],
   "source": [
    "from matplotlib import pyplot"
   ]
  },
  {
   "cell_type": "code",
   "execution_count": null,
   "metadata": {},
   "outputs": [],
   "source": [
    "pyplot.ALGO"
   ]
  },
  {
   "cell_type": "code",
   "execution_count": 63,
   "metadata": {},
   "outputs": [],
   "source": [
    "# esta es la forma recomendada\n",
    "import matplotlib.pyplot as plt"
   ]
  },
  {
   "cell_type": "code",
   "execution_count": 68,
   "metadata": {},
   "outputs": [
    {
     "data": {
      "image/png": "[encoded data removed]",
      "text/plain": [
       "<Figure size 432x288 with 1 Axes>"
      ]
     },
     "metadata": {
      "needs_background": "light"
     },
     "output_type": "display_data"
    }
   ],
   "source": [
    "plt.bar(x=meses, height=contadores);"
   ]
  },
  {
   "cell_type": "code",
   "execution_count": 70,
   "metadata": {},
   "outputs": [],
   "source": [
    "# qué podemos hacer con plt?\n",
    "#dir(plt)"
   ]
  },
  {
   "cell_type": "code",
   "execution_count": 81,
   "metadata": {},
   "outputs": [
    {
     "data": {
      "image/png": "[encoded data removed]",
      "text/plain": [
       "<Figure size 432x288 with 1 Axes>"
      ]
     },
     "metadata": {
      "needs_background": "light"
     },
     "output_type": "display_data"
    }
   ],
   "source": [
    "meses_nro =list(range(1,13))\n",
    "plt.plot(meses_nro, contadores);"
   ]
  }
 ],
 "metadata": {
  "celltoolbar": "Slideshow",
  "kernelspec": {
   "display_name": "Python 3 (ipykernel)",
   "language": "python",
   "name": "python3"
  },
  "language_info": {
   "codemirror_mode": {
    "name": "ipython",
    "version": 3
   },
   "file_extension": ".py",
   "mimetype": "text/x-python",
   "name": "python",
   "nbconvert_exporter": "python",
   "pygments_lexer": "ipython3",
   "version": "3.8.5"
  }
 },
 "nbformat": 4,
 "nbformat_minor": 4
}
