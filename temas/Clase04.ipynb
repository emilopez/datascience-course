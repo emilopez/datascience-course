{
 "cells": [
  {
   "cell_type": "markdown",
   "metadata": {
    "slideshow": {
     "slide_type": "slide"
    }
   },
   "source": [
    "# Clase 4\n",
    "Docente: Emiliano López - ``emiliano.lopez@gmail.com`` \n",
    "- Fecha: 15-09-2022\n",
    "- Unidad 1\n",
    "- Temas:\n",
    "    - Repaso clase previa\n",
    "    - Listas Continuación + Estructuras de control condicional y repetitivas\n",
    "    - Diccionarios."
   ]
  },
  {
   "cell_type": "markdown",
   "metadata": {
    "slideshow": {
     "slide_type": "slide"
    }
   },
   "source": [
    "## Repaso: Entrada / Salida de datos"
   ]
  },
  {
   "cell_type": "code",
   "execution_count": 6,
   "metadata": {
    "slideshow": {
     "slide_type": "fragment"
    }
   },
   "outputs": [
    {
     "data": {
      "text/html": [
       "<img src=\"img/iob.png\", width=800>\n"
      ],
      "text/plain": [
       "<IPython.core.display.HTML object>"
      ]
     },
     "metadata": {},
     "output_type": "display_data"
    }
   ],
   "source": [
    "%%html\n",
    "<img src=\"img/iob.png\", width=800>"
   ]
  },
  {
   "cell_type": "code",
   "execution_count": 8,
   "metadata": {},
   "outputs": [
    {
     "data": {
      "text/html": [
       "<img src=\"img/io2.png\", width=800>\n"
      ],
      "text/plain": [
       "<IPython.core.display.HTML object>"
      ]
     },
     "metadata": {},
     "output_type": "display_data"
    }
   ],
   "source": [
    "%%html\n",
    "<img src=\"img/io2.png\", width=800>"
   ]
  },
  {
   "cell_type": "markdown",
   "metadata": {
    "slideshow": {
     "slide_type": "skip"
    }
   },
   "source": [
    "## Estructuras de control: condicionales y repetitivas\n",
    "\n",
    "- Nuevo: Operador `in`\n",
    "- Lectura de archivos en una cadena"
   ]
  },
  {
   "cell_type": "code",
   "execution_count": 42,
   "metadata": {},
   "outputs": [
    {
     "name": "stdout",
     "output_type": "stream",
     "text": [
      "no se encuentra la z\n"
     ]
    }
   ],
   "source": [
    "cadena = \"aasdlkfjhasdfdkjfhasdfkh\"\n",
    "\n",
    "if \"z\" in cadena:\n",
    "    print(\"se encuentra la z\")\n",
    "else:\n",
    "    print(\"no se encuentra la z\")"
   ]
  },
  {
   "cell_type": "code",
   "execution_count": 45,
   "metadata": {
    "slideshow": {
     "slide_type": "skip"
    }
   },
   "outputs": [
    {
     "name": "stdout",
     "output_type": "stream",
     "text": [
      "4\n",
      "4\n"
     ]
    }
   ],
   "source": [
    "# 1ra versión de juguete simplificado\n",
    "texto = \"aaeejhgf\"\n",
    "\n",
    "cant_vocales = 0\n",
    "cant_consonantes = 0\n",
    "\n",
    "for letra in texto:\n",
    "    if letra in \"aeiou\":\n",
    "        cant_vocales += 1\n",
    "    else:\n",
    "        cant_consonantes += 1\n",
    "        \n",
    "print(cant_vocales)\n",
    "print(cant_consonantes)"
   ]
  },
  {
   "cell_type": "markdown",
   "metadata": {},
   "source": [
    "### Ejercicio 1\n",
    "\n",
    "Vamos a contar la cantidad de vocales y consonantes de **UN** texto almacenado en ``datos/textos/``. Estrategia:\n",
    "\n",
    "- Leer todo el contenido del texto en una sola cadena\n",
    "- Recorrer letra a letra y fijarse si es vocal o consonante\n",
    "    - En caso que sea vocal incrementar en 1 una variable (cant_voc) que iniciada en 0\n",
    "    - En caso que sea consonante incrementar en 1 otra variable (cant_con) iniciada en 0\n",
    "- **DESAFIO:** usando la función ``glob``, incluídra dentro del módulo del mismo nombre, extienda el ejercicio previo para todos los archivos de texto del directorio mencionado anteriormente."
   ]
  },
  {
   "cell_type": "code",
   "execution_count": 52,
   "metadata": {},
   "outputs": [
    {
     "name": "stdout",
     "output_type": "stream",
     "text": [
      "5472\n",
      "9430\n"
     ]
    }
   ],
   "source": [
    "# windoszeros agregar dentro del open: ,encoding=\"utf8\"\n",
    "texto = open(\"datos/textos/y_te_digo_mas.txt\").read()\n",
    "cant_vocales = 0\n",
    "cant_consonantes = 0\n",
    "\n",
    "for letra in texto:\n",
    "    if letra.lower() in \"aeiouáéíóú\":\n",
    "        cant_vocales += 1\n",
    "        \n",
    "print(cant_vocales)"
   ]
  },
  {
   "cell_type": "code",
   "execution_count": null,
   "metadata": {},
   "outputs": [],
   "source": []
  },
  {
   "cell_type": "code",
   "execution_count": 68,
   "metadata": {},
   "outputs": [
    {
     "name": "stdout",
     "output_type": "stream",
     "text": [
      "datos/textos/nada_tengo.txt 316\n",
      "datos/textos/cancion_alicia.txt 310\n",
      "datos/textos/quedandote_o_yendote.txt 196\n",
      "datos/textos/y_te_digo_mas.txt 5524\n",
      "datos/textos/desarma_y_sangra.txt 164\n"
     ]
    }
   ],
   "source": [
    "# vamos a listar todos los archivos en un directorio o carpeta\n",
    "import glob\n",
    "\n",
    "archivos = glob.glob(\"datos/textos/*\")\n",
    "\n",
    "for archivo in archivos:\n",
    "    cant_vocales = 0\n",
    "    texto = open(archivo, encoding=\"utf8\").read()\n",
    "    for letra in texto:\n",
    "        if letra.lower() in \"aeiouáéíóú\":\n",
    "            cant_vocales += 1        \n",
    "    print(archivo, cant_vocales)"
   ]
  },
  {
   "cell_type": "code",
   "execution_count": null,
   "metadata": {},
   "outputs": [],
   "source": []
  },
  {
   "cell_type": "code",
   "execution_count": 10,
   "metadata": {},
   "outputs": [
    {
     "name": "stdout",
     "output_type": "stream",
     "text": [
      "Archivo datos/textos/nada_tengo.txt\n",
      "316\n",
      "397\n",
      "Archivo datos/textos/cancion_alicia.txt\n",
      "310\n",
      "349\n",
      "Archivo datos/textos/quedandote_o_yendote.txt\n",
      "196\n",
      "252\n",
      "Archivo datos/textos/y_te_digo_mas.txt\n",
      "5524\n",
      "6186\n",
      "Archivo datos/textos/desarma_y_sangra.txt\n",
      "164\n",
      "188\n"
     ]
    }
   ],
   "source": [
    "# extendemos en análisis para todos los archivos\n",
    "# bajo el dictorio datos/textos\n",
    "import glob\n",
    "archivos = glob.glob(\"datos/textos/*\")\n",
    "\n",
    "for txt in archivos:\n",
    "    print(f\"Archivo {txt}\")\n",
    "    texto = open(txt).read()\n",
    "    vocales = 0\n",
    "    consonantes = 0\n",
    "\n",
    "    for letra in texto:\n",
    "        if letra.lower() in \"aeiouáéíóú\":\n",
    "            vocales = vocales + 1\n",
    "        elif letra not in \" ;,.1234567890\\n\":\n",
    "            consonantes = consonantes + 1\n",
    "    print(vocales)\n",
    "    print(consonantes)"
   ]
  },
  {
   "cell_type": "code",
   "execution_count": null,
   "metadata": {},
   "outputs": [],
   "source": [
    "# recordamos qué métodos podemos aplicarle a una cadena\n",
    "a = \"asd\"\n",
    "dir(a)"
   ]
  },
  {
   "cell_type": "markdown",
   "metadata": {
    "slideshow": {
     "slide_type": "skip"
    }
   },
   "source": [
    "## Listas (continuación)\n",
    "\n",
    "A diferencia de una variable que contiene un único dato por vez, una lista puede almacenar varios datos en forma simultánea en diferentes posiciones, por lo que para referirnos a uno de ellos necesitamos especificarle el índice o posición. Hasta ahora cargamos elementos a una lista de dos maneras: \n",
    "\n",
    "- Al leer desde un archivo su contenido usando ``.readlines()``\n",
    "- Al escribir manualmente dentro de los corchetes  sus valores\n",
    "\n",
    "¿Cómo hacemos para **agregar** datos a una lista en tiempo de ejecución?\n",
    "- Un dato que ingresa el usuario va a una lista\n",
    "- En función de algún cálculo o condición se almacena en una u otra lista\n",
    "- ..."
   ]
  },
  {
   "cell_type": "code",
   "execution_count": 1,
   "metadata": {},
   "outputs": [],
   "source": [
    "# veamos un ejemplo de append\n",
    "\n",
    "numeros = [10, 11, 12]"
   ]
  },
  {
   "cell_type": "code",
   "execution_count": 3,
   "metadata": {},
   "outputs": [
    {
     "name": "stdout",
     "output_type": "stream",
     "text": [
      "10\n",
      "11\n",
      "12\n"
     ]
    }
   ],
   "source": [
    "for un_num in numeros:\n",
    "    print(un_num)"
   ]
  },
  {
   "cell_type": "code",
   "execution_count": 10,
   "metadata": {},
   "outputs": [],
   "source": [
    "numeros.append(\"esto es una cadena de texto\")"
   ]
  },
  {
   "cell_type": "code",
   "execution_count": 11,
   "metadata": {},
   "outputs": [
    {
     "name": "stdout",
     "output_type": "stream",
     "text": [
      "10\n",
      "11\n",
      "12\n",
      "13\n",
      "13\n",
      "13\n",
      "13\n",
      "esto es una cadena de texto\n"
     ]
    }
   ],
   "source": [
    "for un_num in numeros:\n",
    "    print(un_num)"
   ]
  },
  {
   "cell_type": "code",
   "execution_count": 14,
   "metadata": {},
   "outputs": [
    {
     "data": {
      "text/plain": [
       "[10, 11, 'esto de aca', 12, 13, 13, 13, 13, 'esto es una cadena de texto']"
      ]
     },
     "execution_count": 14,
     "metadata": {},
     "output_type": "execute_result"
    }
   ],
   "source": [
    "numeros.insert(2, \"esto de aca\")\n",
    "numeros"
   ]
  },
  {
   "cell_type": "code",
   "execution_count": null,
   "metadata": {},
   "outputs": [],
   "source": []
  },
  {
   "cell_type": "markdown",
   "metadata": {},
   "source": [
    "### Ejercicio 2 \n",
    "\n",
    "- Realice un programa que almacene los valores para $x$ y para $f(x)$ en dos listas diferentes. La variable $x$ se incrementa de a un paso $0.1$ y $x \\in [1, 6]$. La función $f(x)$ es definida por partes del siguiente modo: \n",
    "\n",
    "$$f(x)= \\left\\{ \\begin{array}{lcc}\n",
    "             5 &   si  & x \\leq 2 \\\\\n",
    "             \\\\ x^2-6x+10 &  si & 2 < x < 5 \\\\\n",
    "             \\\\ 4x-15 &  si  & x \\geq 5\n",
    "             \\end{array}\n",
    "   \\right.$$\n",
    "   \n",
    "- Crear una lista denominada `x` para la variable independiende\n",
    "- Itere con una estructura repetitiva por cada valor de `x`\n",
    "- Crear otra lista denominada `f` para almacenar los valores de la función"
   ]
  },
  {
   "cell_type": "code",
   "execution_count": 19,
   "metadata": {},
   "outputs": [],
   "source": [
    "# aqui armamos la lista de x, la variable independiente\n",
    "dx = 0.1\n",
    "x = []\n",
    "valor = 1\n",
    "for un_valor in range(51):\n",
    "    x.append(valor)\n",
    "    valor = valor + dx"
   ]
  },
  {
   "cell_type": "code",
   "execution_count": 23,
   "metadata": {},
   "outputs": [
    {
     "data": {
      "text/plain": [
       "[<matplotlib.lines.Line2D at 0x7ffb18366fd0>]"
      ]
     },
     "execution_count": 23,
     "metadata": {},
     "output_type": "execute_result"
    },
    {
     "data": {
      "image/png": "[encoded data removed]",
      "text/plain": [
       "<Figure size 432x288 with 1 Axes>"
      ]
     },
     "metadata": {
      "needs_background": "light"
     },
     "output_type": "display_data"
    }
   ],
   "source": [
    "# aqui armamos la funcion f\n",
    "f = []\n",
    "\n",
    "for xi in x:\n",
    "    if xi <= 2:\n",
    "        f.append(5)\n",
    "    elif xi>=5:\n",
    "        f.append(4*xi-15)\n",
    "    else:\n",
    "        f.append(xi**2 - 6*xi + 10)\n",
    "        \n",
    "import matplotlib.pyplot as plt\n",
    "plt.plot(x,f)"
   ]
  },
  {
   "cell_type": "markdown",
   "metadata": {
    "slideshow": {
     "slide_type": "skip"
    }
   },
   "source": [
    "### Ejercicio 3\n",
    "\n",
    "Veamos como agregar elementos a una lista a través del método ``append()``. Para eso veamos como hacer una segunda lista denominada ``tempK`` que almacene los valores de la lista ``tempC`` convertidos a grados Farenheit. La relación está dada por:\n",
    "\n",
    "$$F = C*\\frac{9}{5} + 32$$"
   ]
  },
  {
   "cell_type": "code",
   "execution_count": 25,
   "metadata": {
    "slideshow": {
     "slide_type": "skip"
    }
   },
   "outputs": [],
   "source": [
    "# lista con 3 valores float\n",
    "tempC = [12.2, 33.3, 12.1]"
   ]
  },
  {
   "cell_type": "code",
   "execution_count": 26,
   "metadata": {
    "slideshow": {
     "slide_type": "skip"
    }
   },
   "outputs": [
    {
     "data": {
      "text/plain": [
       "[53.96, 91.94, 53.78]"
      ]
     },
     "execution_count": 26,
     "metadata": {},
     "output_type": "execute_result"
    }
   ],
   "source": [
    "# creamos una nueva lista y vamos agregando los \n",
    "# valores convertidos a °F\n",
    "tempF = []\n",
    "for T in tempC:\n",
    "    F = T * 9/5 + 32\n",
    "    tempF.append(F)\n",
    "tempF"
   ]
  },
  {
   "cell_type": "code",
   "execution_count": 28,
   "metadata": {},
   "outputs": [
    {
     "data": {
      "text/plain": [
       "[53.96, 91.94, 53.78]"
      ]
     },
     "execution_count": 28,
     "metadata": {},
     "output_type": "execute_result"
    }
   ],
   "source": [
    "# también tenemos algo que se llama list comprenhension o listas por comprensión\n",
    "tempF = [T * 9/5 + 32 for T in tempC]\n",
    "tempF"
   ]
  },
  {
   "cell_type": "markdown",
   "metadata": {
    "slideshow": {
     "slide_type": "skip"
    }
   },
   "source": [
    "### Ejercicio 4\n",
    "\n",
    "- Resulta que las 3 temperaturas previas correspondían a diferentes ciudades, realice un programa que permita ingresar el nombre de las ciudades en forma interactiva (por teclado) y se almacenen en una lista nueva denominada ``ciudades``.\n",
    "\n",
    "- Muestre por cada ciudad ingresada los 2 valores de temperatura"
   ]
  },
  {
   "cell_type": "code",
   "execution_count": 29,
   "metadata": {},
   "outputs": [
    {
     "name": "stdin",
     "output_type": "stream",
     "text": [
      "ingrese ciudad 1 santoto\n",
      "ingrese ciudad 2 sasntafe\n",
      "ingrese ciudad 3 parana\n"
     ]
    },
    {
     "name": "stdout",
     "output_type": "stream",
     "text": [
      "santoto   12.2 ºC 53.96 ºF\n",
      "sasntafe   33.3 ºC 91.94 ºF\n",
      "parana   12.1 ºC 53.78 ºF\n"
     ]
    }
   ],
   "source": [
    "# version Vanina\n",
    "ciudad1 = input(\"ingrese ciudad 1\")\n",
    "ciudad2 = input(\"ingrese ciudad 2\")\n",
    "ciudad3 = input(\"ingrese ciudad 3\")\n",
    "\n",
    "ciudades = [ciudad1, ciudad2, ciudad3]\n",
    "\n",
    "for ci, tc, tf in zip(ciudades, tempC, tempF):\n",
    "    print(ci,\" \", tc, \"ºC\",  tf, \"ºF\")"
   ]
  },
  {
   "cell_type": "code",
   "execution_count": 30,
   "metadata": {},
   "outputs": [
    {
     "name": "stdout",
     "output_type": "stream",
     "text": [
      "santoto 12.2 53.96\n",
      "sasntafe 33.3 91.94\n",
      "parana 12.1 53.78\n"
     ]
    }
   ],
   "source": [
    "# version Pablo\n",
    "pos = 0\n",
    "for c in ciudades:\n",
    "    print(ciudades[pos], tempC[pos], tempF[pos])\n",
    "    pos += 1"
   ]
  },
  {
   "cell_type": "code",
   "execution_count": 31,
   "metadata": {},
   "outputs": [
    {
     "name": "stdin",
     "output_type": "stream",
     "text": [
      "Ingrese nombre de la ciudad santoto\n",
      "Ingrese nombre de la ciudad parana\n",
      "Ingrese nombre de la ciudad santa fe\n"
     ]
    },
    {
     "name": "stdout",
     "output_type": "stream",
     "text": [
      "santoto 12.2 53.96\n",
      "parana 33.3 91.94\n",
      "santa fe 12.1 53.78\n"
     ]
    }
   ],
   "source": [
    "# version Maria\n",
    "ciudades = []\n",
    "# ingreso de nombre de ciudades\n",
    "for i in range(3):\n",
    "    ciudad = input(\"Ingrese nombre de la ciudad\")\n",
    "    ciudades.append(ciudad)\n",
    "# mostramos todo\n",
    "for ciudad, temperatura_c, temperatura_f in zip(ciudades, tempC, tempF):\n",
    "    print(ciudad, temperatura_c, temperatura_f)"
   ]
  },
  {
   "cell_type": "code",
   "execution_count": null,
   "metadata": {},
   "outputs": [],
   "source": []
  },
  {
   "cell_type": "code",
   "execution_count": 33,
   "metadata": {
    "slideshow": {
     "slide_type": "skip"
    }
   },
   "outputs": [
    {
     "name": "stdin",
     "output_type": "stream",
     "text": [
      "Ingrese nombre de ciudad 1= santa fe\n",
      "Ingrese nombre de ciudad 2= parana\n",
      "Ingrese nombre de ciudad 3= sauce viejo\n"
     ]
    }
   ],
   "source": [
    "# version profe\n",
    "ciudades = []\n",
    "for i in range(3):\n",
    "    c = input(f\"Ingrese nombre de ciudad {i+1}=\")\n",
    "    ciudades.append(c)    "
   ]
  },
  {
   "cell_type": "code",
   "execution_count": null,
   "metadata": {},
   "outputs": [],
   "source": [
    "# mostramos los valores de cada ciudad\n",
    "for nc, tc, tf in zip(ciudades, tempC, tempF):\n",
    "    print(f\"{nc}: {tc}, {tf}\")"
   ]
  },
  {
   "cell_type": "markdown",
   "metadata": {
    "slideshow": {
     "slide_type": "skip"
    }
   },
   "source": [
    "### Operaciones sobre listas\n",
    "\n",
    "Veamos en la pág. 22 del archivo ``doc/Unidad3.pdf`` que se detallan las funciones mas relevantes aplicadas a listas.\n",
    "- ¿Cómo obtenemos el máximo y mínimo valor de una lista?\n",
    "- ¿Cómo podemos saber si un elemento se encuentra en una lista?\n",
    "\n",
    "\n",
    "### Métodos de una lista\n",
    "\n",
    "Se denomina métodos a las funcionalidades disponibles en una lista, se los utiliza agregando un punto al final de la lista y luego el nombre de la funcionalidad, ``.append()`` es uno de los métodos, por ejemplo. \n",
    "\n",
    "- ¿De qué manera podemos saber los métodos de una lista?\n",
    "- Probemos el método ``count()``\n",
    "- Probemos el método ``sort()``\n",
    "- Probemos la **función** (no es un método) ``sorted()``"
   ]
  },
  {
   "cell_type": "code",
   "execution_count": 35,
   "metadata": {
    "slideshow": {
     "slide_type": "skip"
    }
   },
   "outputs": [
    {
     "data": {
      "text/plain": [
       "[12.1, 12.2, 33.3]"
      ]
     },
     "execution_count": 35,
     "metadata": {},
     "output_type": "execute_result"
    }
   ],
   "source": [
    "# OJO, el método .sort() modifica la lista original\n",
    "tempC.sort()\n",
    "tempC"
   ]
  },
  {
   "cell_type": "code",
   "execution_count": 36,
   "metadata": {},
   "outputs": [],
   "source": [
    "# en cambio sorted() nos retorna otra lista ordenada sin modificar la original\n",
    "lista_ordenada = sorted(tempF)"
   ]
  },
  {
   "cell_type": "code",
   "execution_count": 37,
   "metadata": {},
   "outputs": [
    {
     "data": {
      "text/plain": [
       "[53.78, 53.96, 91.94]"
      ]
     },
     "execution_count": 37,
     "metadata": {},
     "output_type": "execute_result"
    }
   ],
   "source": [
    "lista_ordenada"
   ]
  },
  {
   "cell_type": "code",
   "execution_count": null,
   "metadata": {},
   "outputs": [],
   "source": [
    "# así hacemos una copia de una lista, sino usamos [:] \n",
    "# lo único que hacemos es tener un segundo identificador a la misma lista\n",
    "# por lo tanto si cambiamos el contenido de uno se cambia el otro\n",
    "l2 = lista_ordenada[:]"
   ]
  },
  {
   "cell_type": "code",
   "execution_count": null,
   "metadata": {},
   "outputs": [],
   "source": [
    "# como pusimos los [:] arriba, si modificamos l2, no pasa nada con lista ordenada\n",
    "l2[0] = 9"
   ]
  },
  {
   "cell_type": "code",
   "execution_count": null,
   "metadata": {},
   "outputs": [],
   "source": [
    "lista_ordenada"
   ]
  },
  {
   "cell_type": "markdown",
   "metadata": {
    "slideshow": {
     "slide_type": "skip"
    }
   },
   "source": [
    "### Ejercicio 5\n",
    "\n",
    "- ¿Es posible hacer una lista de listas? \n",
    "- ¿Podríamos tener una lista llamada datos que a su vez contenga las listas ciudades, tempC y tempF?"
   ]
  },
  {
   "cell_type": "code",
   "execution_count": null,
   "metadata": {
    "slideshow": {
     "slide_type": "skip"
    }
   },
   "outputs": [],
   "source": [
    "# si, podríamos haber hecho\n",
    "datos_temp = [ciudades, tempC, tempF]"
   ]
  }
 ],
 "metadata": {
  "celltoolbar": "Slideshow",
  "kernelspec": {
   "display_name": "Python 3 (ipykernel)",
   "language": "python",
   "name": "python3"
  },
  "language_info": {
   "codemirror_mode": {
    "name": "ipython",
    "version": 3
   },
   "file_extension": ".py",
   "mimetype": "text/x-python",
   "name": "python",
   "nbconvert_exporter": "python",
   "pygments_lexer": "ipython3",
   "version": "3.8.5"
  }
 },
 "nbformat": 4,
 "nbformat_minor": 4
}
