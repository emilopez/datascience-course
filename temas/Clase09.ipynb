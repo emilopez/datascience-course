{
 "cells": [
  {
   "cell_type": "markdown",
   "metadata": {},
   "source": [
    "# Clase 9\n",
    "\n",
    "- Fecha: 27-10-2022\n",
    "- Unidad 2: ecosistema científico básico\n",
    "    - Pandas continuación\n",
    "    - Plotly continuación"
   ]
  },
  {
   "cell_type": "markdown",
   "metadata": {},
   "source": [
    "## Pandas \n",
    "\n",
    "- Operaciones de agregación: ``sort()``, ``groupby()``, ``sum()``, etc "
   ]
  },
  {
   "cell_type": "code",
   "execution_count": null,
   "metadata": {},
   "outputs": [],
   "source": [
    "import pandas as pd\n",
    "import numpy as np\n",
    "\n",
    "import plotly.graph_objects as go\n",
    "\n",
    "import plotly.express as px       # atencion, plotly EXPRESS! "
   ]
  },
  {
   "cell_type": "code",
   "execution_count": null,
   "metadata": {},
   "outputs": [],
   "source": [
    "gps = pd.read_csv(\"datos/gps_sin_col_name.CSV\", sep=\";\", names=[\"lidar\", \"timestamp\", \"lat\", \"lon\", \"altgps\", \"velocidad\", \"altbar\", \"patm\"], parse_dates=[\"timestamp\"])\n",
    "gps.head()"
   ]
  },
  {
   "cell_type": "code",
   "execution_count": null,
   "metadata": {},
   "outputs": [],
   "source": [
    "gps.info()"
   ]
  },
  {
   "cell_type": "code",
   "execution_count": null,
   "metadata": {},
   "outputs": [],
   "source": []
  },
  {
   "cell_type": "code",
   "execution_count": null,
   "metadata": {},
   "outputs": [],
   "source": [
    "fig = go.Figure()\n",
    "fig.add_trace(go.Scattergl(x=gps[\"timestamp\"], y=gps[\"altgps\"]))\n",
    "fig.show()"
   ]
  },
  {
   "cell_type": "markdown",
   "metadata": {},
   "source": [
    "### Eliminar columnas y filas\n",
    "\n",
    "- ¿Elimina en el dataframe original?\n",
    "\n",
    "Con el método ``.drop()`` obtenemos un nuevo dataframe sin las columnas eliminadas."
   ]
  },
  {
   "cell_type": "code",
   "execution_count": null,
   "metadata": {},
   "outputs": [],
   "source": [
    "gps_tll = gps.drop(columns=[\"lidar\", \"altgps\", \"velocidad\", \"altbar\", \"patm\"])"
   ]
  },
  {
   "cell_type": "code",
   "execution_count": null,
   "metadata": {},
   "outputs": [],
   "source": [
    "gps_tll.head()"
   ]
  },
  {
   "cell_type": "code",
   "execution_count": null,
   "metadata": {},
   "outputs": [],
   "source": [
    "gps"
   ]
  },
  {
   "cell_type": "markdown",
   "metadata": {},
   "source": [
    "### Ordenamiento\n",
    "\n",
    "- ¿Modifica el dataframe original?"
   ]
  },
  {
   "cell_type": "code",
   "execution_count": null,
   "metadata": {},
   "outputs": [],
   "source": [
    "gspatm = gps.sort_values(by=\"patm\")\n",
    "gspatm"
   ]
  },
  {
   "cell_type": "markdown",
   "metadata": {},
   "source": [
    "### Boolean Indexing\n",
    "- Igual que numpy (porque en el fondo es numpy!!)"
   ]
  },
  {
   "cell_type": "code",
   "execution_count": null,
   "metadata": {},
   "outputs": [],
   "source": [
    "gps[\"velocidad\"]>5"
   ]
  },
  {
   "cell_type": "code",
   "execution_count": null,
   "metadata": {},
   "outputs": [],
   "source": [
    "ind = gps[\"velocidad\"]>7\n",
    "gps[ind]"
   ]
  },
  {
   "cell_type": "markdown",
   "metadata": {},
   "source": [
    "### Ejercicio 9.1\n",
    "\n",
    "- Utilizando el dataset del archivo ``datos/importaciones.csv`` \n",
    "    - ¿qué productos no se importaron en el año 2015?\n",
    "    - ¿en qué productos la importación **fue mayor al doble** entre el 2015 y 2016?"
   ]
  },
  {
   "cell_type": "code",
   "execution_count": null,
   "metadata": {},
   "outputs": [],
   "source": [
    "imp = pd.read_csv(\"datos/importaciones.csv\")\n",
    "imp.tail()"
   ]
  },
  {
   "cell_type": "code",
   "execution_count": null,
   "metadata": {},
   "outputs": [],
   "source": [
    "no_imp_2015 = imp[\"Enero al 10 de Diciembre 2015\"]==0\n",
    "imp[no_imp_2015]"
   ]
  },
  {
   "cell_type": "code",
   "execution_count": null,
   "metadata": {},
   "outputs": [],
   "source": [
    "ind = imp[\"Enero al 10 de Diciembre 2016\"] > (2*imp[\"Enero al 10 de Diciembre 2015\"])\n",
    "imp[ind]"
   ]
  },
  {
   "cell_type": "markdown",
   "metadata": {},
   "source": [
    "### Agrupamiento\n",
    "- El método ``group by`` involucra:\n",
    "    - Dividir los datos según algún criterio de selección\n",
    "    - Aplicar alguna función a esos grupos en forma independiente\n",
    "    - Combinar esos resultados en una estructura independiente\n",
    "    \n",
    "Veamos nuevamente los datos de eph"
   ]
  },
  {
   "cell_type": "code",
   "execution_count": null,
   "metadata": {},
   "outputs": [],
   "source": [
    "eph = pd.read_csv(\"datos/eph_pobreza2019.csv\", sep=\";\")\n",
    "eph.head()"
   ]
  },
  {
   "cell_type": "markdown",
   "metadata": {},
   "source": [
    "- **Agrupamos por regiones**"
   ]
  },
  {
   "cell_type": "code",
   "execution_count": null,
   "metadata": {},
   "outputs": [],
   "source": [
    "grupo_reg = eph.groupby(\"Regiones\")"
   ]
  },
  {
   "cell_type": "markdown",
   "metadata": {},
   "source": [
    "- **¿Qué es ``grupo_reg``?**"
   ]
  },
  {
   "cell_type": "code",
   "execution_count": null,
   "metadata": {},
   "outputs": [],
   "source": [
    "type(grupo_reg)"
   ]
  },
  {
   "cell_type": "markdown",
   "metadata": {},
   "source": [
    "- **Veamos algunos de sus métodos**"
   ]
  },
  {
   "cell_type": "code",
   "execution_count": null,
   "metadata": {},
   "outputs": [],
   "source": [
    "grupo_reg.groups"
   ]
  },
  {
   "cell_type": "code",
   "execution_count": null,
   "metadata": {},
   "outputs": [],
   "source": []
  },
  {
   "cell_type": "markdown",
   "metadata": {},
   "source": [
    "- **¿Será iterable?**"
   ]
  },
  {
   "cell_type": "code",
   "execution_count": null,
   "metadata": {},
   "outputs": [],
   "source": [
    "for nombre, grupo in grupo_reg:\n",
    "    print(\"====================\")\n",
    "    print(nombre)\n",
    "    print(\"====================\")\n",
    "    print(grupo)\n",
    "    print()"
   ]
  },
  {
   "cell_type": "markdown",
   "metadata": {},
   "source": [
    "- **Seleccionemos algún grupo**"
   ]
  },
  {
   "cell_type": "code",
   "execution_count": null,
   "metadata": {},
   "outputs": [],
   "source": [
    "grupo_reg.max()"
   ]
  },
  {
   "cell_type": "markdown",
   "metadata": {},
   "source": [
    "- Podemos aplicar operaciones a cada uno de esos grupos **(cada grupo es un DataFrame!!!)**. Recordemos el resultado de aplicar ``.sum()`` al DataFrame completo"
   ]
  },
  {
   "cell_type": "code",
   "execution_count": null,
   "metadata": {},
   "outputs": [],
   "source": [
    "eph.sum()"
   ]
  },
  {
   "cell_type": "markdown",
   "metadata": {},
   "source": [
    "### Guardar datos en archivos CSV o binarios\n",
    "\n",
    "\n",
    "\n",
    "- Para almacenar los datos de un dataframe en un archivo csv basta con ejecutar: ``df.to_csv(\"nomarchi.csv\")``\n",
    "\n",
    "\n",
    "- Para almacenar directamente los dataframes:\n",
    "    - Guardar: ``df.to_pickle(\"mi_dataframe.p\")``\n",
    "    - Leer: ``df = pd.read_pickle(\"mi_dataframe.p\")``\n",
    "    \n",
    "En python estandar tenemos el módulo ``pickle`` que nos permite guardar objetos (listas, diccionarios, etc) en archivos de disco, en pandas tenemos el método ``to_pickle()`` para hacer lo mismo con objetos dataframes."
   ]
  },
  {
   "cell_type": "code",
   "execution_count": null,
   "metadata": {},
   "outputs": [],
   "source": [
    "# con esto lo guardo al dataframe en un archivo .csv\n",
    "gps_tll.to_csv(\"pruebitagps.csv\", index=False)"
   ]
  },
  {
   "cell_type": "code",
   "execution_count": null,
   "metadata": {},
   "outputs": [],
   "source": [
    "eph_hogares = eph.drop(columns=[\"Regiones\", \"PobrezaPersonas\", \"IndigenciaPersonas\"])\n",
    "\n",
    "# con esto lo guardo en formato BINARIO!\n",
    "eph_hogares.to_pickle(\"mi_eph_hogares.p\")"
   ]
  },
  {
   "cell_type": "code",
   "execution_count": null,
   "metadata": {},
   "outputs": [],
   "source": [
    "# con esto lo leo a ese archivo BINARIO\n",
    "\n",
    "eph_leido = pd.read_pickle(\"mi_eph_hogares.p\")\n",
    "eph_hogares.head()"
   ]
  },
  {
   "cell_type": "markdown",
   "metadata": {},
   "source": [
    "### Ejercitación 9.2\n",
    "- Muestre el dataframe donde la pobreza de hogares ha superado la media (ayuda: boolean indexing)\n",
    "- Ordene el resultado previo por alguna de las columnas\n",
    "- Obtener la suma de los índices de pobreza e indigencia agrupados por Regiones\n",
    "- Muestre los resultados ordenandolos por la columna de pobreza hogares\n",
    "- **Usando el archivo ``importaciones.csv`` obtenga la suma de las columnas agrupadas por Rubro**"
   ]
  },
  {
   "cell_type": "code",
   "execution_count": null,
   "metadata": {},
   "outputs": [],
   "source": []
  },
  {
   "cell_type": "markdown",
   "metadata": {},
   "source": [
    "## Visualización con Plotly (2da parte)\n",
    "\n",
    "- https://plot.ly/python/\n",
    "- https://www.plotly.express/plotly_express/\n",
    "\n",
    "Existen dos modos de uso:\n",
    "\n",
    "- Usando el submódulo *express*: facilita generar gráficos sencillos, para exploración rápida **de DataFrames**\n",
    "\n",
    "```python\n",
    "import plotly.express as px\n",
    "px.line(...)\n",
    "\n",
    "```\n",
    "\n",
    "- Usando *plotly graph objects*\n",
    "\n",
    "```python\n",
    "import plotly.graph_objects as go\n",
    "\n",
    "# creamos una figura\n",
    "fig = go.Figure()\n",
    "# agregamos la traza\n",
    "fig.add_trace(go.Scatter(x=x, y=y,mode='markers', name='Observaciones'))\n",
    "# lo mostramos\n",
    "fig.show()\n",
    "```"
   ]
  },
  {
   "cell_type": "markdown",
   "metadata": {},
   "source": [
    "### Templates\n",
    "\n",
    "Tenemos un conjunto de templates predefinidos para los gráficos: \n",
    "    - plotly\n",
    "    - plotly_white\n",
    "    - plotly_dark\n",
    "    - ggplot2\n",
    "    - seaborn\n",
    "    - none"
   ]
  },
  {
   "cell_type": "code",
   "execution_count": null,
   "metadata": {},
   "outputs": [],
   "source": [
    "# cargamos el dataset\n",
    "altura = pd.read_csv(\"datos/barometro.CSV\", sep=\";\")\n",
    "altura.head()"
   ]
  },
  {
   "cell_type": "code",
   "execution_count": null,
   "metadata": {},
   "outputs": [],
   "source": [
    "fig = px.scatter(altura, y=\"altimetro\", title=\"con plotly express\")\n",
    "fig.show()"
   ]
  },
  {
   "cell_type": "markdown",
   "metadata": {},
   "source": [
    "\n"
   ]
  },
  {
   "cell_type": "code",
   "execution_count": null,
   "metadata": {},
   "outputs": [],
   "source": [
    "for un_template in [\"plotly\", \"plotly_white\", \"plotly_dark\", \"ggplot2\", \"seaborn\", \"none\"]:\n",
    "    fig = px.scatter(altura, y=\"altimetro\", template=un_template, title=f\"Template: {un_template}\")\n",
    "    fig.show()"
   ]
  },
  {
   "cell_type": "markdown",
   "metadata": {},
   "source": [
    "### Gráficos estadísticos\n",
    "\n",
    "- https://plot.ly/python/box-plots/"
   ]
  },
  {
   "cell_type": "code",
   "execution_count": null,
   "metadata": {},
   "outputs": [],
   "source": [
    "fig = go.Figure()\n",
    "\n",
    "fig.add_trace(go.Box(y=eph[\"PobrezaHogares\"],     name=\"PobrezaHogares\"))\n",
    "fig.add_trace(go.Box(y=eph[\"IndigenciaHogares\"],  name=\"IHogares\"))\n",
    "fig.add_trace(go.Box(y=eph[\"PobrezaPersonas\"],    name=\"PobrezaP\"))\n",
    "fig.add_trace(go.Box(y=eph[\"IndigenciaPersonas\"], name=\"IPersonas\"))\n",
    "\n",
    "fig.show()"
   ]
  },
  {
   "cell_type": "markdown",
   "metadata": {},
   "source": [
    "### Datos sobre Mapas\n",
    "\n",
    "- https://plot.ly/python/reference/#layout-geo\n",
    "- Leemos el archivo ``PBI_mundiales.csv``"
   ]
  },
  {
   "cell_type": "code",
   "execution_count": null,
   "metadata": {},
   "outputs": [],
   "source": [
    "pbi = pd.read_csv(\"datos/PBI_mundiales.csv\", sep=\",\")\n",
    "\n",
    "#pbi = pbi.dropna()"
   ]
  },
  {
   "cell_type": "code",
   "execution_count": null,
   "metadata": {},
   "outputs": [],
   "source": [
    "fig = px.scatter_geo(pbi, locations=\"iso_alpha\", color=\"continent\",\n",
    "                     hover_name=\"country\", size=\"pop\",\n",
    "                     projection=\"natural earth\")\n",
    "fig.show()"
   ]
  },
  {
   "cell_type": "markdown",
   "metadata": {},
   "source": [
    "- Agreguemos el campo ``animation_frame=\"year\"``"
   ]
  },
  {
   "cell_type": "code",
   "execution_count": null,
   "metadata": {},
   "outputs": [],
   "source": [
    "fig = px.scatter_geo(pbi, locations=\"iso_alpha\", color=\"continent\",\n",
    "                     hover_name=\"country\", size=\"pop\",\n",
    "                     animation_frame=\"year\",\n",
    "                     projection=\"natural earth\")\n",
    "fig.show()"
   ]
  },
  {
   "cell_type": "markdown",
   "metadata": {},
   "source": [
    "### Mapas online\n",
    "- Ver mapbox: https://www.mapbox.com/"
   ]
  },
  {
   "cell_type": "code",
   "execution_count": null,
   "metadata": {},
   "outputs": [],
   "source": [
    "caminata = pd.read_csv(\"datos/gps.CSV\", sep=\";\")\n",
    "caminata.info()"
   ]
  },
  {
   "cell_type": "code",
   "execution_count": null,
   "metadata": {},
   "outputs": [],
   "source": [
    "fig = px.scatter_mapbox(caminata, lat=\"lat\", lon=\"lng\", hover_name=\"altgps\", \n",
    "                        hover_data=[\"timegps\", \"pAtm\", \"altbar\"],\n",
    "                        color_discrete_sequence=[\"fuchsia\"],\n",
    "                        zoom=13, height=500)\n",
    "fig.update_layout(mapbox_style=\"open-street-map\")\n",
    "fig.show()"
   ]
  },
  {
   "cell_type": "markdown",
   "metadata": {},
   "source": [
    "**Vamos a animarlo!!**"
   ]
  },
  {
   "cell_type": "code",
   "execution_count": null,
   "metadata": {},
   "outputs": [],
   "source": [
    "caminata = pd.read_csv(\"datos/gps.CSV\", sep=\";\")\n",
    "caminata.head()\n",
    "\n",
    "fig = px.scatter_mapbox(caminata, lat=\"lat\", lon=\"lng\", hover_name=\"altgps\", hover_data=[\"timegps\", \"pAtm\", \"altbar\"],\n",
    "                        color_discrete_sequence=[\"fuchsia\"],\n",
    "                        animation_frame=\"timegps\",\n",
    "                        zoom=13, height=300)\n",
    "fig.update_layout(mapbox_style=\"open-street-map\")\n",
    "fig.update_layout(margin={\"r\":0,\"t\":0,\"l\":0,\"b\":0})\n",
    "fig.show()"
   ]
  },
  {
   "cell_type": "markdown",
   "metadata": {},
   "source": [
    "### Visualización 3d"
   ]
  },
  {
   "cell_type": "code",
   "execution_count": null,
   "metadata": {},
   "outputs": [],
   "source": [
    "iris = pd.read_csv(\"datos/iris_data.csv\")\n",
    "iris"
   ]
  },
  {
   "cell_type": "code",
   "execution_count": null,
   "metadata": {},
   "outputs": [],
   "source": [
    "fig = px.scatter_3d(iris, x='sepal.length', y='sepal.width', z='petal.width', color='variety')\n",
    "fig.show()"
   ]
  },
  {
   "cell_type": "code",
   "execution_count": null,
   "metadata": {},
   "outputs": [],
   "source": [
    "canal = pd.read_csv(\"datos/canal.csv\")\n",
    "\n",
    "canal.tail()"
   ]
  },
  {
   "cell_type": "code",
   "execution_count": null,
   "metadata": {},
   "outputs": [],
   "source": [
    "figure = go.Figure()\n",
    "\n",
    "figure.add_trace(\n",
    "    go.Scatter3d(x = canal.x, y = canal.y, z = -canal.z, mode = 'markers', marker = {\"size\":1.5})\n",
    ")\n",
    "figure.update_layout(title='Nube de puntos', width=800, height=600,)\n",
    "figure.show()"
   ]
  },
  {
   "cell_type": "code",
   "execution_count": null,
   "metadata": {},
   "outputs": [],
   "source": [
    "import plotly.graph_objects as go\n",
    "import pandas as pd\n",
    "\n",
    "z_data = pd.read_csv('datos/terreno.csv')\n",
    "\n",
    "fig = go.Figure(data=[go.Surface(z=z_data.values)])\n",
    "\n",
    "fig.update_layout(title='Elevación de terreno', autosize=False,\n",
    "                  width=800, height=600,\n",
    "                  margin=dict(l=65, r=50, b=65, t=90))\n",
    "\n",
    "fig.show()"
   ]
  },
  {
   "cell_type": "code",
   "execution_count": null,
   "metadata": {},
   "outputs": [],
   "source": [
    "lidar1 = pd.read_csv('datos/conventosanfrancisco1.csv.xyz')\n",
    "lidar1"
   ]
  },
  {
   "cell_type": "code",
   "execution_count": null,
   "metadata": {},
   "outputs": [],
   "source": [
    "traza = go.Scatter3d(x = lidar1.x, y = lidar1.y, z = lidar1.z, mode = 'markers', marker = dict(size=1))\n",
    "\n",
    "figure = go.Figure()\n",
    "figure.add_trace(traza)\n",
    "\n",
    "figure.update_layout(title='Convento San Francisco', height=800,)\n",
    "\n",
    "figure.show()"
   ]
  },
  {
   "cell_type": "code",
   "execution_count": null,
   "metadata": {},
   "outputs": [],
   "source": [
    "lidar2 = pd.read_csv('datos/museo1.csv.xyz')\n",
    "\n",
    "traza = go.Scatter3d(x = lidar2.x, y = lidar2.y, z = lidar2.z, mode = 'markers', marker = dict(size=1.5))\n",
    "\n",
    "figure = go.Figure()\n",
    "figure.add_trace(traza)\n",
    "\n",
    "figure.update_layout(title='Museo etnografico', height=800,)\n",
    "\n",
    "figure.show()"
   ]
  },
  {
   "cell_type": "code",
   "execution_count": null,
   "metadata": {},
   "outputs": [],
   "source": [
    "futon = pd.read_csv('datos/futon1.csv.xyz')\n",
    "\n",
    "traza = go.Scatter3d(x = futon.x, y = futon.y, z = futon.z, mode = 'markers', marker = dict(size=0.9))\n",
    "\n",
    "figure = go.Figure()\n",
    "figure.add_trace(traza)\n",
    "\n",
    "figure.update_layout(title='Futón', height=800,)\n",
    "\n",
    "figure.show()"
   ]
  },
  {
   "cell_type": "code",
   "execution_count": null,
   "metadata": {},
   "outputs": [],
   "source": []
  }
 ],
 "metadata": {
  "kernelspec": {
   "display_name": "Python 3 (ipykernel)",
   "language": "python",
   "name": "python3"
  },
  "language_info": {
   "codemirror_mode": {
    "name": "ipython",
    "version": 3
   },
   "file_extension": ".py",
   "mimetype": "text/x-python",
   "name": "python",
   "nbconvert_exporter": "python",
   "pygments_lexer": "ipython3",
   "version": "3.8.5"
  }
 },
 "nbformat": 4,
 "nbformat_minor": 4
}
