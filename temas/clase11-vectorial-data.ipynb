{
 "cells": [
  {
   "cell_type": "markdown",
   "id": "cb1f2eb4",
   "metadata": {},
   "source": [
    "# Clase 11: Procesamiento de datos espaciales \n",
    "\n",
    "\n",
    "- Geopandas\n",
    "    - https://pygis.io/docs/a_intro.html\n",
    "    - Datasets https://www.ign.gob.ar/NuestrasActividades/InformacionGeoespacial/CapasSIG"
   ]
  },
  {
   "cell_type": "markdown",
   "id": "4025e2b1",
   "metadata": {},
   "source": [
    "## Vectorial\n",
    "- seguir: https://geopandas.org/en/stable/getting_started/introduction.html\n",
    "- https://levelup.gitconnected.com/beginners-tutorial-on-how-to-use-python-s-geopandas-map-library-e6fb0db8132\n",
    "- https://geopandas.org/en/stable/getting_started.html\n",
    "- https://towardsdatascience.com/geopandas-hands-on-introduction-to-geospatial-machine-learning-6e7e4a539daf\n",
    "- contextily: context geo tiles in Python: https://contextily.readthedocs.io/en/latest/index.html\n",
    "-https://fossies.org/linux/plotly.py/doc/python/lines-on-maps.md"
   ]
  },
  {
   "cell_type": "code",
   "execution_count": null,
   "id": "df182b00-c697-4fb0-8bfc-048fe19d3af7",
   "metadata": {},
   "outputs": [],
   "source": [
    "import numpy as np\n",
    "import shapely\n",
    "import geopandas as gpd\n",
    "import contextily as cx\n",
    "import json"
   ]
  },
  {
   "cell_type": "code",
   "execution_count": null,
   "id": "f9e9ca6a-896a-432c-a6d5-a5324725770e",
   "metadata": {},
   "outputs": [],
   "source": [
    "import numpy as np\n",
    "import plotly.graph_objects as go"
   ]
  },
  {
   "cell_type": "code",
   "execution_count": null,
   "id": "0754daf2-62b3-41ed-beb1-7e673116107a",
   "metadata": {},
   "outputs": [],
   "source": [
    "gdf = gpd.read_file(\"datos/geo/linea_de_limite_070111.zip\")"
   ]
  },
  {
   "cell_type": "code",
   "execution_count": null,
   "id": "4db5fbe6-62a7-4d0f-8c94-c4b5dbb26d8f",
   "metadata": {},
   "outputs": [],
   "source": [
    "gdf"
   ]
  },
  {
   "cell_type": "code",
   "execution_count": null,
   "id": "5f7fbee8-c292-4e3f-91d8-6b78112aec92",
   "metadata": {},
   "outputs": [],
   "source": [
    "gdf.info()"
   ]
  },
  {
   "cell_type": "code",
   "execution_count": null,
   "id": "ce9c6a8d-c7f3-4a2f-9ae9-990722448e3d",
   "metadata": {},
   "outputs": [],
   "source": [
    "gdf.crs"
   ]
  },
  {
   "cell_type": "code",
   "execution_count": null,
   "id": "2feb9a85-42a6-4cc1-8b8a-e5a03c0bf6e9",
   "metadata": {},
   "outputs": [],
   "source": [
    "ax = gdf.plot(figsize=(10, 10), alpha=0.5, edgecolor='k')\n"
   ]
  },
  {
   "cell_type": "markdown",
   "id": "ee0fd7a5-aca1-402f-ae92-13fcd786018c",
   "metadata": {},
   "source": [
    "Before adding web map tiles to this plot, we first need to ensure the coordinate reference systems (CRS) of the tiles and the data match. **Web map tiles are typically provided in Web Mercator (EPSG 3857)**"
   ]
  },
  {
   "cell_type": "code",
   "execution_count": null,
   "id": "02b94b92-c9a6-44a5-85c3-b879d5ccd0cc",
   "metadata": {},
   "outputs": [],
   "source": [
    "df_wm = gdf.to_crs(epsg=3857)\n"
   ]
  },
  {
   "cell_type": "code",
   "execution_count": null,
   "id": "364bc7cd-df1d-45e3-a606-027e22fb187a",
   "metadata": {},
   "outputs": [],
   "source": [
    "ax = df_wm.plot(figsize=(10, 10), alpha=0.5, edgecolor='k')\n",
    "cx.add_basemap(ax, source=cx.providers.OpenStreetMap.Mapnik)"
   ]
  },
  {
   "cell_type": "code",
   "execution_count": null,
   "id": "71bb5b72-8486-4262-9394-881ccbd9a414",
   "metadata": {},
   "outputs": [],
   "source": [
    "# tenemos que armarnos los datos para plotly\n",
    "lats = []\n",
    "lons = []\n",
    "names = []\n",
    "\n",
    "for feature, name in zip(gdf.geometry, gdf.nam):\n",
    "    linestrings = [feature]\n",
    "    for linestring in linestrings:\n",
    "        x, y = linestring.xy\n",
    "        lats = np.append(lats, y)\n",
    "        lons = np.append(lons, x)\n",
    "        names = np.append(names, [name]*len(y)) # explicar esto\n",
    "        lats = np.append(lats, None)\n",
    "        lons = np.append(lons, None)\n",
    "        names = np.append(names, None)"
   ]
  },
  {
   "cell_type": "markdown",
   "id": "5071a34a-6ea2-429f-b035-7be45272451d",
   "metadata": {},
   "source": [
    "En caso que el dataframe tenga diferentes tipos de datos geo en la columna geometry debo chequear que sea linestring\n",
    "```python\n",
    "for feature, name in zip(gdf.geometry, gdf.nam):\n",
    "    if isinstance(feature, shapely.geometry.linestring.LineString):\n",
    "        linestrings = [feature]\n",
    "    elif isinstance(feature, shapely.geometry.multilinestring.MultiLineString):\n",
    "        linestrings = feature.geoms\n",
    "    else:\n",
    "        continue\n",
    "\n",
    "    for linestring in linestrings:\n",
    "        x, y = linestring.xy\n",
    "        lats = np.append(lats, y)\n",
    "        lons = np.append(lons, x)\n",
    "        names = np.append(names, [name]*len(y))\n",
    "        lats = np.append(lats, None)\n",
    "        lons = np.append(lons, None)\n",
    "        names = np.append(names, None)\n",
    "```"
   ]
  },
  {
   "cell_type": "code",
   "execution_count": null,
   "id": "3b51f3df-7701-4bf2-9d8d-a0cde0bd6318",
   "metadata": {},
   "outputs": [],
   "source": [
    "fig = go.Figure()\n",
    "\n",
    "plot_rios = go.Scattermapbox(lon=lons, lat=lats, mode=\"lines\")\n",
    "\n",
    "fig.add_trace(plot_rios)\n",
    "\n",
    "fig.update_layout(mapbox_style=\"open-street-map\", \n",
    "                  mapbox=dict(center=dict(lat=-31.663, lon=-60.725),zoom=3),)"
   ]
  },
  {
   "cell_type": "markdown",
   "id": "8886ee78-aa6b-4772-a680-e93c97abd18e",
   "metadata": {},
   "source": [
    "Veamos el caso de los ríos ahora, pero como son demasiados **lo truncamos!!**"
   ]
  },
  {
   "cell_type": "code",
   "execution_count": null,
   "id": "60701df9-fe71-4a20-9c4a-578b7a767ea4",
   "metadata": {},
   "outputs": [],
   "source": [
    "rios = gpd.read_file(\"datos/geo/lineas_de_aguas_continentales_perenne.zip\")\n",
    "rios"
   ]
  },
  {
   "cell_type": "code",
   "execution_count": null,
   "id": "a6a96fd3-133c-4e90-beda-0b0eff61a9f1",
   "metadata": {},
   "outputs": [],
   "source": [
    "# analizando lo que hay en cada fila\n",
    "\n",
    "#ls = rios.geometry[0:1]\n",
    "#x,y = ls[0].xy\n",
    "#x = np.array(x)\n",
    "#y = np.array(y)"
   ]
  },
  {
   "cell_type": "code",
   "execution_count": null,
   "id": "742a4a01-f6e0-4f5a-a001-e654459b5986",
   "metadata": {},
   "outputs": [],
   "source": [
    "# me quedo con algunos para que no demore\n",
    "rios_recorte = rios[:1000]"
   ]
  },
  {
   "cell_type": "code",
   "execution_count": null,
   "id": "f3ece797-ac0e-4372-b0b6-e515455af769",
   "metadata": {},
   "outputs": [],
   "source": [
    "# tenemos que armarnos los datos para plotly\n",
    "lats = []\n",
    "lons = []\n",
    "names = []\n",
    "\n",
    "for feature, name in zip(rios_recorte.geometry, rios_recorte.nam):\n",
    "    if isinstance(feature, shapely.geometry.linestring.LineString):\n",
    "        linestrings = [feature]\n",
    "    elif isinstance(feature, shapely.geometry.multilinestring.MultiLineString):\n",
    "        linestrings = feature.geoms\n",
    "    else:\n",
    "        continue\n",
    "    for linestring in linestrings:\n",
    "        x, y = linestring.xy\n",
    "        lats = np.append(lats, y)\n",
    "        lons = np.append(lons, x)\n",
    "        names = np.append(names, [name]*len(y)) # explicar esto\n",
    "        lats = np.append(lats, None)\n",
    "        lons = np.append(lons, None)\n",
    "        names = np.append(names, None)\n"
   ]
  },
  {
   "cell_type": "code",
   "execution_count": null,
   "id": "b1728b7d-9a66-435c-a19a-5c03f5f6594f",
   "metadata": {},
   "outputs": [],
   "source": [
    "fig = go.Figure()\n",
    "\n",
    "plot_rios = go.Scattermapbox(lon=lons, lat=lats, mode=\"lines\")\n",
    "\n",
    "fig.add_trace(plot_rios)\n",
    "\n",
    "fig.update_layout(mapbox_style=\"open-street-map\",\n",
    "                        margin={\"r\":0,\"t\":0,\"l\":0,\"b\":0},\n",
    "                        mapbox=dict(center=dict(lat=-31.663, lon=-60.725),zoom=9),\n",
    "                        )"
   ]
  },
  {
   "cell_type": "code",
   "execution_count": null,
   "id": "6fd0700f-e956-4e93-b2f6-fe2fb8df2d2a",
   "metadata": {},
   "outputs": [],
   "source": [
    "muni = gpd.read_file(\"datos/geo/municipio.zip\")"
   ]
  },
  {
   "cell_type": "code",
   "execution_count": null,
   "id": "041b99e8-481a-4804-82d3-68bcd13b7e59",
   "metadata": {},
   "outputs": [],
   "source": [
    "muni"
   ]
  },
  {
   "cell_type": "code",
   "execution_count": null,
   "id": "000d56c0-78b8-4b9e-afdb-b69399dd3dce",
   "metadata": {},
   "outputs": [],
   "source": [
    "muni.info()"
   ]
  },
  {
   "cell_type": "code",
   "execution_count": null,
   "id": "13299b2d-d4c4-4472-b7d8-aac219e506e4",
   "metadata": {},
   "outputs": [],
   "source": [
    "muni[\"aleatorio\"] = np.random.randint(1,100,len(muni))\n",
    "muni = muni[:150]"
   ]
  },
  {
   "cell_type": "code",
   "execution_count": null,
   "id": "d5a3362b-42c1-4e69-aa1f-07ddd9ccd751",
   "metadata": {},
   "outputs": [],
   "source": []
  },
  {
   "cell_type": "code",
   "execution_count": null,
   "id": "15f788a8-053b-4f18-b6d6-52e90b131e3a",
   "metadata": {},
   "outputs": [],
   "source": [
    "\n",
    "#muni = muni.to_crs(\"WGS84\") # con plotly no hace falta\n",
    "\n",
    "\n",
    "fig = go.Figure()\n",
    "\n",
    "plot_muni = go.Choroplethmapbox(geojson=json.loads(muni.to_json()), \n",
    "                                    locations=muni.index, z=muni['aleatorio'],\n",
    "                                    colorscale=\"Viridis\", marker_line_width=.5)\n",
    "\n",
    "plot_rios = go.Scattermapbox(lon=lons, lat=lats, mode=\"lines\")\n",
    "\n",
    "fig.add_trace(plot_muni)\n",
    "fig.add_trace(plot_rios)\n",
    "\n",
    "fig.update_layout(mapbox_style=\"open-street-map\", mapbox=dict(center=dict(lat=-31.663, lon=-60.725),zoom=5),)"
   ]
  },
  {
   "cell_type": "markdown",
   "id": "2d97b3c2-3ea3-4c15-b2f7-4d64e9147387",
   "metadata": {},
   "source": [
    "**Ahora con plotly express**"
   ]
  },
  {
   "cell_type": "markdown",
   "id": "55493fba-2e13-4bb4-b388-7eeea9f11bc1",
   "metadata": {},
   "source": [
    "```python\n",
    "fig = px.choropleth_mapbox(muni,geojson=muni.geometry, locations=muni.index,\n",
    "    color=\"aleatorio\",\n",
    "    center=dict(lat=-31.663, lon=-60.725),mapbox_style=\"open-street-map\",\n",
    "    zoom=9)\n",
    "\n",
    "fig.update_layout(\n",
    "    height=1000,\n",
    "    autosize=False,\n",
    "    margin={\"r\": 0, \"t\": 0, \"l\": 0, \"b\": 0},\n",
    ")\n",
    "\n",
    "fig\n",
    "```"
   ]
  },
  {
   "cell_type": "code",
   "execution_count": null,
   "id": "4e304750-8dd0-49ea-b73d-00fcaae41da1",
   "metadata": {},
   "outputs": [],
   "source": [
    "muni.area"
   ]
  },
  {
   "cell_type": "code",
   "execution_count": null,
   "id": "7dd9daca-87cd-45e5-9c52-4e4e20f676fc",
   "metadata": {},
   "outputs": [],
   "source": [
    "muni.crs"
   ]
  },
  {
   "cell_type": "code",
   "execution_count": null,
   "id": "84a9dd88-93e3-4484-b279-39a36b33ff34",
   "metadata": {},
   "outputs": [],
   "source": [
    "muni = muni.to_crs(epsg=3857)"
   ]
  },
  {
   "cell_type": "code",
   "execution_count": null,
   "id": "956d5733-ae5f-41d7-9613-5bb4252d8d4a",
   "metadata": {},
   "outputs": [],
   "source": [
    "muni.crs"
   ]
  },
  {
   "cell_type": "code",
   "execution_count": null,
   "id": "ee6094dc-029a-442f-97a0-aeec885bcde9",
   "metadata": {},
   "outputs": [],
   "source": [
    "muni[\"geometry\"].area"
   ]
  },
  {
   "cell_type": "code",
   "execution_count": null,
   "id": "aa1aaf0e-dc06-4d22-82ed-f4921e608f86",
   "metadata": {},
   "outputs": [],
   "source": [
    "muni[\"area\"] = muni[\"geometry\"].area/(10**6) # lo paso a km2"
   ]
  },
  {
   "cell_type": "code",
   "execution_count": null,
   "id": "2ed28076-e992-40cc-ab7c-6bb77f590dc6",
   "metadata": {},
   "outputs": [],
   "source": [
    "muni"
   ]
  },
  {
   "cell_type": "code",
   "execution_count": null,
   "id": "9c035499-86df-42a7-bedb-b10015fe3920",
   "metadata": {},
   "outputs": [],
   "source": [
    "muni = muni.to_crs(epsg=32633)\n",
    "muni[\"area2\"] = muni.geometry.area/(10**6)"
   ]
  },
  {
   "cell_type": "code",
   "execution_count": null,
   "id": "c3d1c560-4eb3-4b2c-8e7a-aba6784dec30",
   "metadata": {},
   "outputs": [],
   "source": [
    "muni"
   ]
  },
  {
   "cell_type": "code",
   "execution_count": null,
   "id": "a8f73df2-c715-49e4-88a6-89d8458c6e61",
   "metadata": {},
   "outputs": [],
   "source": [
    "muni.to_crs({'proj':'cea'}) # cilindrical equal-area\n",
    "muni.crs"
   ]
  },
  {
   "cell_type": "code",
   "execution_count": null,
   "id": "84d12fcc-bb4f-47f7-a3e7-ff8ab908b632",
   "metadata": {},
   "outputs": [],
   "source": [
    "muni[\"area3\"] = muni.area/(10**6)\n",
    "muni"
   ]
  },
  {
   "cell_type": "code",
   "execution_count": null,
   "id": "c3e725cb-d9a0-4548-ad84-1baa495c9b35",
   "metadata": {},
   "outputs": [],
   "source": [
    "muni = muni.to_crs(\"WGS84\")\n",
    "fig = go.Figure()\n",
    "\n",
    "plot_muni = go.Choroplethmapbox(geojson=json.loads(muni.to_json()), \n",
    "                                    locations=muni.index, z=muni['area3'],\n",
    "                                     marker_line_width=.5)\n",
    "\n",
    "\n",
    "\n",
    "fig.add_trace(plot_muni)\n",
    "\n",
    "\n",
    "fig.update_layout(mapbox_style=\"open-street-map\", mapbox=dict(center=dict(lat=-31.663, lon=-60.725),zoom=5),)"
   ]
  },
  {
   "cell_type": "code",
   "execution_count": null,
   "id": "8c6e229b-b515-421d-be5c-93c628f6cfe9",
   "metadata": {},
   "outputs": [],
   "source": [
    "muni.centroid"
   ]
  },
  {
   "cell_type": "code",
   "execution_count": null,
   "id": "8d6cb07a-1ad9-4d64-9b78-5908a0808ea8",
   "metadata": {},
   "outputs": [],
   "source": [
    "muni.explore(\"area3\", legend=False)"
   ]
  },
  {
   "cell_type": "code",
   "execution_count": null,
   "id": "2308f95c-f515-4cd9-9c93-7175bb954e34",
   "metadata": {},
   "outputs": [],
   "source": []
  }
 ],
 "metadata": {
  "kernelspec": {
   "display_name": "tig",
   "language": "python",
   "name": "tig"
  },
  "language_info": {
   "codemirror_mode": {
    "name": "ipython",
    "version": 3
   },
   "file_extension": ".py",
   "mimetype": "text/x-python",
   "name": "python",
   "nbconvert_exporter": "python",
   "pygments_lexer": "ipython3",
   "version": "3.9.13"
  }
 },
 "nbformat": 4,
 "nbformat_minor": 5
}
