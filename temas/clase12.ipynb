{
 "cells": [
  {
   "cell_type": "markdown",
   "id": "0fd6bc5b-e611-4118-8943-62c6c41af548",
   "metadata": {},
   "source": [
    "# Clase 12\n",
    "\n",
    "- Fecha: 22/11/2022 (**última clase**)\n",
    "- Temas:\n",
    "    - NDVI pendiente\n",
    "    - Geopandas\n",
    "    - Entornos virtuales y Libs de interés\n",
    "    - ¿cómo seguir?"
   ]
  },
  {
   "cell_type": "code",
   "execution_count": null,
   "id": "ed914700-c25f-4a0f-bf3a-6dc7848501bf",
   "metadata": {},
   "outputs": [],
   "source": [
    "import numpy as np\n",
    "import pandas as pd\n",
    "import geopandas as gpd\n",
    "\n",
    "import json\n",
    "import plotly.graph_objects as go\n",
    "import plotly"
   ]
  },
  {
   "cell_type": "code",
   "execution_count": null,
   "id": "936ad022-c467-43a0-9c3c-8bd2ea20dca5",
   "metadata": {},
   "outputs": [],
   "source": [
    "plotly.__version__"
   ]
  },
  {
   "cell_type": "markdown",
   "id": "f8f8a0c8-3d3a-4a8f-9c6b-d119763b7dc1",
   "metadata": {},
   "source": [
    "## NDVI "
   ]
  },
  {
   "cell_type": "code",
   "execution_count": null,
   "id": "3f04efa7-2d47-49d5-a00a-e8a7d961c45e",
   "metadata": {},
   "outputs": [],
   "source": [
    "import rasterio as rio\n",
    "from rasterio.plot import show "
   ]
  },
  {
   "cell_type": "code",
   "execution_count": null,
   "id": "49bc567c-94d0-4185-aafc-c812a13ce286",
   "metadata": {},
   "outputs": [],
   "source": [
    "# ruta de los archivos\n",
    "path_img_b4 = \"datos/geo/landsat/LC08_L1TP_227081_20191012_20191018_01_T1/LC08_L1TP_227081_20191012_20191018_01_T1_B4.TIF\"\n",
    "path_img_b5 = \"datos/geo/landsat/LC08_L1TP_227081_20191012_20191018_01_T1/LC08_L1TP_227081_20191012_20191018_01_T1_B5.TIF\"\n",
    "\n",
    "# leo imagen\n",
    "img_b4 = rio.open(path_img_b4)\n",
    "img_b5 = rio.open(path_img_b5)\n",
    "\n",
    "# leo contenido raster\n",
    "red = img_b4.read(1).astype('float64')\n",
    "nir = img_b5.read(1).astype('float64')"
   ]
  },
  {
   "cell_type": "code",
   "execution_count": null,
   "id": "5e3bd3a4-32ad-4f07-88a1-53fed4ed9279",
   "metadata": {},
   "outputs": [],
   "source": [
    "np.geterr()"
   ]
  },
  {
   "cell_type": "code",
   "execution_count": null,
   "id": "5e7878c8-fabd-4667-9c32-3f48717c2f28",
   "metadata": {},
   "outputs": [],
   "source": [
    "# >>>>  le decimos que ignore la division por cero <<<<\n",
    "np.seterr(divide = \"ignore\", invalid=\"ignore\")\n",
    "\n",
    "ndvi = (nir - red)/(red + nir)"
   ]
  },
  {
   "cell_type": "code",
   "execution_count": null,
   "id": "8e2786de-45ff-473b-a47c-9f1deff3d10d",
   "metadata": {},
   "outputs": [],
   "source": [
    "# filtramos por si acaso\n",
    "\n",
    "ndvi[ndvi > 1] = np.nan\n",
    "ndvi[ndvi < -1] = np.nan\n",
    "\n",
    "show(ndvi, cmap='Greens')"
   ]
  },
  {
   "cell_type": "markdown",
   "id": "02e62dd4-e6bd-40e2-938a-30d525cce6b5",
   "metadata": {},
   "source": [
    "### Problemas Desafío: otros índices\n",
    "- Enhanced Vegetation Index (EVI)\n",
    "- Soil Adjusted Vegetation Index (SAVI)\n",
    "- Green Chlorophyll Index (GCI)\n",
    "- Atmospherically Resistant Vegetation Index(ARVI)"
   ]
  },
  {
   "cell_type": "markdown",
   "id": "9fbc414e-ed6f-4a2f-a88c-ab5e6e302bba",
   "metadata": {},
   "source": [
    "## Geopandas continuación"
   ]
  },
  {
   "cell_type": "code",
   "execution_count": null,
   "id": "e2f14e47-e02d-4fcf-9aea-014376e611fd",
   "metadata": {},
   "outputs": [],
   "source": [
    "muni = gpd.read_file(\"datos/geo/municipio.zip\")\n",
    "\n",
    "muni"
   ]
  },
  {
   "cell_type": "code",
   "execution_count": null,
   "id": "19011f4d-d7ed-4cd6-a44a-4f909a14a3e4",
   "metadata": {},
   "outputs": [],
   "source": [
    "muni.crs"
   ]
  },
  {
   "cell_type": "code",
   "execution_count": null,
   "id": "1708e30b-2537-49a8-b60b-7c5573e66069",
   "metadata": {},
   "outputs": [],
   "source": [
    "area = muni.area\n",
    "\n",
    "area"
   ]
  },
  {
   "cell_type": "code",
   "execution_count": null,
   "id": "dc568369-a111-4a19-b7a0-f1815a4e51e7",
   "metadata": {},
   "outputs": [],
   "source": [
    "muni = muni.to_crs(epsg=32633)\n",
    "\n"
   ]
  },
  {
   "cell_type": "code",
   "execution_count": null,
   "id": "4e969bca-5d18-4013-a04a-aeae1e014c23",
   "metadata": {},
   "outputs": [],
   "source": [
    "muni[\"area\"] = muni.geometry.area/(10**6)    # explicar sobre columna geometry\n",
    "\n",
    "#muni.to_crs({'proj':'cea'}) # cilindrical equal-area\n",
    "#muni[\"area2\"] = muni.area/(10**6)\n",
    "\n",
    "muni"
   ]
  },
  {
   "cell_type": "code",
   "execution_count": null,
   "id": "5701bc2e-61e6-4cbb-a9bc-d483217dfc6d",
   "metadata": {},
   "outputs": [],
   "source": [
    "muni.explore(\"area\", legend=False)"
   ]
  },
  {
   "cell_type": "code",
   "execution_count": null,
   "id": "9d6b1982-2fa3-4bf4-8342-e6b387309a4e",
   "metadata": {},
   "outputs": [],
   "source": [
    "#muni = muni.to_crs(\"WGS84\")\n",
    "#fig = go.Figure()\n",
    "\n",
    "#plot_muni = go.Choroplethmapbox(geojson=json.loads(muni.to_json()), \n",
    "#                                    locations=muni.index, z=muni['area2'],\n",
    "#                                     marker_line_width=.5)\n",
    "#fig.add_trace(plot_muni)\n",
    "#fig.update_layout(mapbox_style=\"open-street-map\", mapbox=dict(center=dict(lat=-31.663, lon=-60.725),zoom=5),)"
   ]
  },
  {
   "cell_type": "code",
   "execution_count": null,
   "id": "ad6fdf63-a61f-4f54-8234-b294755290b3",
   "metadata": {},
   "outputs": [],
   "source": []
  },
  {
   "cell_type": "code",
   "execution_count": null,
   "id": "548ec34b-1101-47d5-a115-060b34191773",
   "metadata": {},
   "outputs": [],
   "source": [
    "idx = muni[\"nam\"]==\"Santa Fe\"\n",
    "sfe = muni[idx]\n",
    "sfe.explore()   # o sfe.plot() me muestra con un gráfico matplotlib "
   ]
  },
  {
   "cell_type": "code",
   "execution_count": null,
   "id": "b584eae5-6cfe-4a7d-afcf-7d2a2800a902",
   "metadata": {},
   "outputs": [],
   "source": [
    "muni.centroid"
   ]
  },
  {
   "cell_type": "code",
   "execution_count": null,
   "id": "64af73db-96a6-4775-b829-0aaba5510356",
   "metadata": {},
   "outputs": [],
   "source": [
    "muni.explore(\"area\", legend=False)"
   ]
  },
  {
   "cell_type": "markdown",
   "id": "a0fe1603-05a2-43bc-b222-2455756b452d",
   "metadata": {},
   "source": [
    "### Pandas dataframe -> Geopandas dataframe\n",
    "\n",
    "- A partir de un dataframe generamos un geodataframe"
   ]
  },
  {
   "cell_type": "code",
   "execution_count": null,
   "id": "52deca70-7136-4ed2-9339-b9ffe892a350",
   "metadata": {},
   "outputs": [],
   "source": [
    "df = pd.DataFrame(\n",
    "    {'City': ['Buenos Aires', 'Brasilia', 'Santiago', 'Bogota', 'Caracas', 'Santa Fe'],\n",
    "        'Country': ['Argentina', 'Brazil', 'Chile', 'Colombia', 'Venezuela', 'Argentina'],\n",
    "        'Latitude': [-34.58, -15.78, -33.45, 4.60, 10.48, -31.6629377],\n",
    "        'Longitude': [-58.66, -47.91, -70.66, -74.08, -66.86, -60.7252908]})\n",
    "df"
   ]
  },
  {
   "cell_type": "code",
   "execution_count": null,
   "id": "c994efc9-106b-4838-829f-a62afdc46bd8",
   "metadata": {},
   "outputs": [],
   "source": [
    "# convierto los datos de long y lat a POINTS\n",
    "geom = gpd.points_from_xy(df.Longitude, df.Latitude) # paso las columnas de mi DF\n",
    "\n",
    "# tengo que definir un sistema de referencia de coordenadas\n",
    "crs = \"EPSG:4326\""
   ]
  },
  {
   "cell_type": "code",
   "execution_count": null,
   "id": "d403e4e7-1c34-4dd1-9b68-433f6a53a686",
   "metadata": {},
   "outputs": [],
   "source": [
    "geom"
   ]
  },
  {
   "cell_type": "code",
   "execution_count": null,
   "id": "05c34f63-ae2b-4fb6-98da-cb5482023ad8",
   "metadata": {},
   "outputs": [],
   "source": [
    "# ahora que tengo todo armo el geodataframe\n",
    "gdf = gpd.GeoDataFrame(df, crs = crs, geometry = geom)\n",
    "\n",
    "gdf"
   ]
  },
  {
   "cell_type": "code",
   "execution_count": null,
   "id": "e631ce10-b19d-4dc0-b055-0ea5f45c570b",
   "metadata": {},
   "outputs": [],
   "source": [
    "gdf = gdf.rename_geometry('Puntos')\n",
    "gdf"
   ]
  },
  {
   "cell_type": "code",
   "execution_count": null,
   "id": "0446c2b5-1be2-4a11-8a81-f9498d016ec5",
   "metadata": {},
   "outputs": [],
   "source": [
    "gdf.geometry"
   ]
  },
  {
   "cell_type": "code",
   "execution_count": null,
   "id": "f7c7581b-3d1d-4db6-939d-6e22a0812379",
   "metadata": {},
   "outputs": [],
   "source": [
    "gdf.explore()"
   ]
  },
  {
   "cell_type": "code",
   "execution_count": null,
   "id": "2df48524-1d25-43b8-86eb-7704ed0235fc",
   "metadata": {},
   "outputs": [],
   "source": [
    "#gdf = gdf.to_crs(epsg=32633)\n",
    "gdf"
   ]
  },
  {
   "cell_type": "code",
   "execution_count": null,
   "id": "2f8fc676-8c86-44e2-8fde-be283a701fa5",
   "metadata": {},
   "outputs": [],
   "source": [
    "gdf.crs"
   ]
  },
  {
   "cell_type": "code",
   "execution_count": null,
   "id": "b9dc4c03-a4d4-4605-9b08-e231fb56abd2",
   "metadata": {},
   "outputs": [],
   "source": [
    "coloncito = gdf['Puntos'].iloc[5]\n",
    "type(coloncito)"
   ]
  },
  {
   "cell_type": "code",
   "execution_count": null,
   "id": "356b8a50-b54a-48f3-a845-597de934ae44",
   "metadata": {},
   "outputs": [],
   "source": [
    "gdf['distancia'] = gdf['Puntos'].distance(coloncito)\n",
    "gdf"
   ]
  },
  {
   "cell_type": "code",
   "execution_count": null,
   "id": "b733ba75-d286-49bb-bc2c-6ff3d07c3351",
   "metadata": {},
   "outputs": [],
   "source": [
    "gdf.to_file(\"datos/geo/my_file.geojson\", driver=\"GeoJSON\")"
   ]
  },
  {
   "cell_type": "code",
   "execution_count": null,
   "id": "64b51874-ddd0-4c08-adb3-95c6dcc259d9",
   "metadata": {},
   "outputs": [],
   "source": []
  },
  {
   "cell_type": "markdown",
   "id": "df447b43-931f-4529-81dc-c0f307cb2005",
   "metadata": {},
   "source": [
    "### Crear geometrías propias\n",
    "\n"
   ]
  },
  {
   "cell_type": "code",
   "execution_count": null,
   "id": "e028e668-f814-4d7c-9452-2260ea6d136e",
   "metadata": {},
   "outputs": [],
   "source": [
    "from shapely.geometry import Point, Polygon\n",
    "\n",
    "from shapely import wkt"
   ]
  },
  {
   "cell_type": "code",
   "execution_count": null,
   "id": "49f9cf85-dda8-4e04-a539-fcb05849bbc1",
   "metadata": {},
   "outputs": [],
   "source": [
    "# acá usamos notación WKT para crear geodataframe\n",
    "df2 = pd.DataFrame(\n",
    "    {'City': ['Buenos Aires', 'Brasilia', 'Santiago', 'Bogota', 'Caracas'],\n",
    "     'Country': ['Argentina', 'Brazil', 'Chile', 'Colombia', 'Venezuela'],\n",
    "     'Coordinates': ['POINT(-58.66 -34.58)', 'POINT(-47.91 -15.78)',\n",
    "                     'POINT(-70.66 -33.45)', 'POINT(-74.08 4.60)',\n",
    "                     'POINT(-66.86 10.48)']})\n",
    "df2.info()"
   ]
  },
  {
   "cell_type": "code",
   "execution_count": null,
   "id": "012119fd-0d49-4cc0-bef3-e3a01681247f",
   "metadata": {},
   "outputs": [],
   "source": [
    "df2['Coordinates'] = gpd.GeoSeries.from_wkt(df2['Coordinates'])\n",
    "df2.info()"
   ]
  },
  {
   "cell_type": "code",
   "execution_count": null,
   "id": "396f4d48-0b1d-486b-8170-e65ddc69db45",
   "metadata": {},
   "outputs": [],
   "source": [
    "gdf2 = gpd.GeoDataFrame(df2, geometry='Coordinates')\n",
    "\n",
    "print(gdf2.head())"
   ]
  },
  {
   "cell_type": "code",
   "execution_count": null,
   "id": "372988d1-80c3-41f0-b780-f7cee5bd792d",
   "metadata": {},
   "outputs": [],
   "source": [
    "gdf2[\"Coordinates\"].x     # es lo mismo que gdf2.geometry.x"
   ]
  },
  {
   "cell_type": "code",
   "execution_count": null,
   "id": "b2673385-91fb-404c-bfb0-7651ce9a9ea4",
   "metadata": {},
   "outputs": [],
   "source": [
    "gdf2[\"Coordinates\"].y"
   ]
  },
  {
   "cell_type": "markdown",
   "id": "8277c90b-5fd4-4e3d-a0af-b9ecf80bb73f",
   "metadata": {},
   "source": [
    "**Un polígono**"
   ]
  },
  {
   "cell_type": "code",
   "execution_count": null,
   "id": "7cfb0fd3-17f2-4187-8cf5-496201735b6c",
   "metadata": {},
   "outputs": [],
   "source": [
    "# creo una lista de listas con pares lon, lat\n",
    "\n",
    "lon_lat = [[-60.671750, -31.639597],\n",
    "           [-60.671749, -31.639655],\n",
    "           [-60.671663, -31.639654],\n",
    "           [-60.671654, -31.639596]]\n",
    "\n",
    "data = pd.DataFrame({\"Lugar\": \"CENEHA\", \"Aula\":\"auditorio\", \"Descripción\": \"clases Maestria TIG\"}, index=[0])\n",
    "\n",
    "data"
   ]
  },
  {
   "cell_type": "code",
   "execution_count": null,
   "id": "9d852160-4fc3-4f18-94d0-64acdb1d0ed8",
   "metadata": {},
   "outputs": [],
   "source": [
    "polygon_geom = Polygon(lon_lat)\n",
    "\n",
    "gdf2 = gpd.GeoDataFrame(data, crs='epsg:4326', geometry=[polygon_geom])     \n",
    "gdf2"
   ]
  },
  {
   "cell_type": "code",
   "execution_count": null,
   "id": "a3b5e876-1ba1-4b80-b7f4-88f09edb87c9",
   "metadata": {},
   "outputs": [],
   "source": [
    "gdf2.explore()"
   ]
  },
  {
   "cell_type": "code",
   "execution_count": null,
   "id": "19ac4e11-c618-43e7-bb4b-7adb49d49f3d",
   "metadata": {},
   "outputs": [],
   "source": [
    "data_dic = {'col1': ['name1', 'name2'], 'geometry': [Point(1, 2), Point(2, 1)]}\n",
    "\n",
    "\n",
    "df3 = gpd.GeoDataFrame(data_dic, crs=\"EPSG:4326\")\n",
    "df3"
   ]
  },
  {
   "cell_type": "markdown",
   "id": "da681323-a5b2-4549-b338-fc1222f2df77",
   "metadata": {},
   "source": [
    "## Entornos virtuales\n",
    "\n",
    "- https://conda.io/projects/conda/en/latest/user-guide/tasks/manage-environments.html\n",
    "\n",
    "**Recomendación:** \n",
    "- Tener UN entorno virtual por cada proyecto \n",
    "- en directorio de ese proyecto (donde están mis programas) un `requirements.txt` con los paquetes y versiones necesarias\n",
    "- en ese directorio un README.md con ayuda de cómo crear el entorno\n",
    "\n",
    "Para no tener que instalar jupyter en cada entorno:\n",
    "\n",
    "```\n",
    "$ conda activate tig\n",
    "(tig)$ conda install ipykernel\n",
    "(tig)$ ipython kernel install --user --name=tig\n",
    "(tig)$ conda deactivate\n",
    "```"
   ]
  },
  {
   "cell_type": "markdown",
   "id": "1d4b6267-4af0-465f-96b7-8a6a0ac817ec",
   "metadata": {},
   "source": [
    "## Otras libs\n",
    "- Streamlit: https://medium.com/spatial-data-science/3-super-helpful-geospatial-web-applications-with-streamlit-d6eae05e2810\n",
    "- Geopy: https://geopy.readthedocs.io/en/stable/#\n",
    "- PyOSM: https://pyrosm.readthedocs.io/en/latest/\n",
    "- Pygis: https://pygis.io/docs/d_access_osm.html\n",
    "- GeoWombat: https://geowombat.readthedocs.io/en/latest/\n",
    "- OSMNx: https://www.openstreetmap.org/search?query=santa%20fe%2C%20santa%20fe%2C%20argentina#map=13/-31.6153/-60.7099\n",
    "- Request: https://requests.readthedocs.io/en/latest/\n",
    "- Statsmodel: https://www.statsmodels.org/dev/index.html\n",
    "- Telegram bots: https://python-telegram-bot.org/ (Sofi tutorial: https://www.youtube.com/watch?v=9x1oF5cCd8k)\n",
    "- GEEmap: https://geemap.org/\n",
    "\n",
    "### Veamos ejemplo de OSMNx"
   ]
  },
  {
   "cell_type": "code",
   "execution_count": null,
   "id": "ed004f70-2233-4eee-a72b-35ad14ba65f5",
   "metadata": {},
   "outputs": [],
   "source": [
    "sfe = \"Santa Fe Capital, Departamento La Capital, Santa Fe, S3000, Argentina\""
   ]
  },
  {
   "cell_type": "code",
   "execution_count": null,
   "id": "13412dbc-0a47-4bf9-a3e8-24aba1338848",
   "metadata": {},
   "outputs": [],
   "source": [
    "import osmnx as ox\n",
    "\n",
    "tags = {'building': True} # List key-value pairs for tags   \n",
    "\n",
    "edificios = ox.geometries_from_place(sfe, tags)\n",
    "edificios.head()\n"
   ]
  },
  {
   "cell_type": "code",
   "execution_count": null,
   "id": "0e7660c0-1395-4dad-9ec0-7549e683d9d6",
   "metadata": {},
   "outputs": [],
   "source": [
    "edificios.explore()"
   ]
  },
  {
   "cell_type": "code",
   "execution_count": null,
   "id": "77754e29-2a40-489d-956e-22018f9fba9e",
   "metadata": {},
   "outputs": [],
   "source": [
    "area"
   ]
  },
  {
   "cell_type": "code",
   "execution_count": null,
   "id": "34ae183e-354d-4344-9740-03acce77867c",
   "metadata": {},
   "outputs": [],
   "source": []
  },
  {
   "cell_type": "code",
   "execution_count": null,
   "id": "69b7df6f-10fa-45e1-b12a-c58a95478c6a",
   "metadata": {},
   "outputs": [],
   "source": [
    "area.explore()"
   ]
  },
  {
   "cell_type": "markdown",
   "id": "e1cae741-2f0a-40a0-96e0-f00832bbffca",
   "metadata": {},
   "source": [
    "## FIN\n",
    "\n",
    "Algunas recomendaciones para seguir:\n",
    "\n",
    "- **Programar para uno mismo:** resolver problemas repetitivos\n",
    "- **Buscar un proyecto/problema y enfocarse:** no se puede aprender todo\n",
    "- **Mantenerse en contacto con comunidades de programación:** lxs nerds suelen ayudar\n",
    "- **Hacer una tesis que incluya programación:** el resultado de nuestro trabajo puede ser un software que sirva a otros "
   ]
  },
  {
   "cell_type": "code",
   "execution_count": null,
   "id": "ce9dfe6e-89ad-41b9-8475-eb6bcca30365",
   "metadata": {},
   "outputs": [],
   "source": []
  }
 ],
 "metadata": {
  "kernelspec": {
   "display_name": "tig",
   "language": "python",
   "name": "tig"
  },
  "language_info": {
   "codemirror_mode": {
    "name": "ipython",
    "version": 3
   },
   "file_extension": ".py",
   "mimetype": "text/x-python",
   "name": "python",
   "nbconvert_exporter": "python",
   "pygments_lexer": "ipython3",
   "version": "3.9.13"
  }
 },
 "nbformat": 4,
 "nbformat_minor": 5
}
