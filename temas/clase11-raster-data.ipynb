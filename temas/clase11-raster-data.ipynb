{
 "cells": [
  {
   "cell_type": "markdown",
   "id": "cb1f2eb4",
   "metadata": {},
   "source": [
    "# Clase 11: Procesamiento de datos espaciales \n",
    "\n",
    "- Rasterio: https://rasterio.readthedocs.io/en/latest/quickstart.html\n",
    "- Geopandas\n",
    "    - https://pygis.io/docs/a_intro.html\n",
    "    - Datasets https://www.ign.gob.ar/NuestrasActividades/InformacionGeoespacial/CapasSIG\n",
    "\n",
    "## Raster\n",
    "\n",
    "### Con un DEM"
   ]
  },
  {
   "cell_type": "code",
   "execution_count": null,
   "id": "6acf3c98-47b0-4b4d-9485-5bf7387776a1",
   "metadata": {},
   "outputs": [],
   "source": [
    "import numpy as np\n",
    "import matplotlib.pyplot as plt\n",
    "import plotly.graph_objects as go\n",
    "import plotly.express as px\n",
    "\n",
    "\n",
    "import rasterio as rio\n",
    "from rasterio.plot import show"
   ]
  },
  {
   "cell_type": "code",
   "execution_count": null,
   "id": "36dcf20c-ef5a-4154-a924-8e8fb3ef3d70",
   "metadata": {},
   "outputs": [],
   "source": [
    "dem = rio.open(\"datos/geo/ASTGTM2_S32W061_dem.tif\")"
   ]
  },
  {
   "cell_type": "code",
   "execution_count": null,
   "id": "553ea7a5-72e2-4296-ac25-7624e031195a",
   "metadata": {},
   "outputs": [],
   "source": [
    "dem.name"
   ]
  },
  {
   "cell_type": "code",
   "execution_count": null,
   "id": "ae21f375-8d74-4636-8e64-a911b86f3be6",
   "metadata": {},
   "outputs": [],
   "source": [
    "dem"
   ]
  },
  {
   "cell_type": "code",
   "execution_count": null,
   "id": "c0ecdefa-c5f8-4158-aaef-79b4161c68dc",
   "metadata": {},
   "outputs": [],
   "source": [
    "dem.count"
   ]
  },
  {
   "cell_type": "code",
   "execution_count": null,
   "id": "6c0e5952-92ab-404b-bf56-45f5ff89cc30",
   "metadata": {},
   "outputs": [],
   "source": [
    "dem.shape"
   ]
  },
  {
   "cell_type": "code",
   "execution_count": null,
   "id": "434a8adb-fe5d-4c74-9c13-72502a13a85c",
   "metadata": {},
   "outputs": [],
   "source": [
    "dem.width"
   ]
  },
  {
   "cell_type": "code",
   "execution_count": null,
   "id": "0983fd64-fc66-4922-8807-c493cfed9698",
   "metadata": {},
   "outputs": [],
   "source": [
    "dem.dtypes\n"
   ]
  },
  {
   "cell_type": "code",
   "execution_count": null,
   "id": "2d868bfb-68a6-4d3a-bf1b-2831502e400a",
   "metadata": {},
   "outputs": [],
   "source": [
    "dem.bounds"
   ]
  },
  {
   "cell_type": "code",
   "execution_count": null,
   "id": "ed71eea1-31e5-4b37-9f35-e394acf24358",
   "metadata": {},
   "outputs": [],
   "source": [
    "dem.transform"
   ]
  },
  {
   "cell_type": "code",
   "execution_count": null,
   "id": "e4aceb60-ba38-4dbe-993d-aa9615e6307e",
   "metadata": {},
   "outputs": [],
   "source": [
    "\n",
    "#dlon = dlat = 0.0002777777777777778\n",
    "lon = np.linspace(-61.00013888888889,-59.999861111111116,3601)\n",
    "lat = np.linspace(-32.00013888888889,-30.999861111111112,3601)\n",
    "len(lat)"
   ]
  },
  {
   "cell_type": "code",
   "execution_count": null,
   "id": "4ed6d48d-93f8-4667-90b4-d4472b6b257e",
   "metadata": {},
   "outputs": [],
   "source": [
    "dem.transform * (0,0)"
   ]
  },
  {
   "cell_type": "code",
   "execution_count": null,
   "id": "8136b32a-94f9-4a90-9ec9-cd47c68a5278",
   "metadata": {},
   "outputs": [],
   "source": [
    "dem.transform*(3601,3601)"
   ]
  },
  {
   "cell_type": "code",
   "execution_count": null,
   "id": "ffb378f7-9bb3-4b9d-95c9-bbc83a479bec",
   "metadata": {},
   "outputs": [],
   "source": [
    "dem.crs"
   ]
  },
  {
   "cell_type": "code",
   "execution_count": null,
   "id": "c2483f39-54e5-4c0d-926e-d1629e03cf9a",
   "metadata": {},
   "outputs": [],
   "source": [
    "dem.indexes # nos devuelve el índice de cada banda: ojo, arrancan de 1"
   ]
  },
  {
   "cell_type": "code",
   "execution_count": null,
   "id": "7e4b7efa-a9b2-46f8-b4c7-60dee084d12e",
   "metadata": {},
   "outputs": [],
   "source": [
    "band1 = dem.read(1) # leemos la banda 1 de la imagen (es la única banda)"
   ]
  },
  {
   "cell_type": "code",
   "execution_count": null,
   "id": "76fffa98-c9ce-4e77-a318-476b836ad07c",
   "metadata": {},
   "outputs": [],
   "source": [
    "type(band1)"
   ]
  },
  {
   "cell_type": "code",
   "execution_count": null,
   "id": "ee228fde-734a-4915-892e-e8a07f06b9a2",
   "metadata": {},
   "outputs": [],
   "source": [
    "band1"
   ]
  },
  {
   "cell_type": "code",
   "execution_count": null,
   "id": "be44d968-7678-4759-bb45-ace5001cdda7",
   "metadata": {},
   "outputs": [],
   "source": []
  },
  {
   "cell_type": "code",
   "execution_count": null,
   "id": "c6cc2c7f-640f-4a7d-aa19-d4f8643e3d14",
   "metadata": {},
   "outputs": [],
   "source": [
    "plt.imshow(band1, cmap='viridis')"
   ]
  },
  {
   "cell_type": "code",
   "execution_count": null,
   "id": "d657d363-590a-4795-ac21-0e458c48b0ab",
   "metadata": {},
   "outputs": [],
   "source": [
    "px.imshow(band1, x=lon, y=lat[::-1])"
   ]
  },
  {
   "cell_type": "code",
   "execution_count": null,
   "id": "7f84349b",
   "metadata": {},
   "outputs": [],
   "source": [
    "show(band1, cmap='gist_earth', transform=dem.transform);"
   ]
  },
  {
   "cell_type": "markdown",
   "id": "bd39f9c0",
   "metadata": {},
   "source": []
  },
  {
   "cell_type": "markdown",
   "id": "2fd7f2e3",
   "metadata": {},
   "source": [
    "### Con una imagen Landsat"
   ]
  },
  {
   "cell_type": "code",
   "execution_count": null,
   "id": "06eee987-ddf7-476e-b2fa-e375734cbffa",
   "metadata": {},
   "outputs": [],
   "source": [
    "imglandsat_b1 = rio.open(\"datos/geo/landsat/LC08_L1TP_227081_20191012_20191018_01_T1/LC08_L1TP_227081_20191012_20191018_01_T1_B1.TIF\")"
   ]
  },
  {
   "cell_type": "code",
   "execution_count": null,
   "id": "1e2d5a73",
   "metadata": {},
   "outputs": [],
   "source": [
    "imglandsat_b1.indexes"
   ]
  },
  {
   "cell_type": "code",
   "execution_count": null,
   "id": "f8326bbe",
   "metadata": {},
   "outputs": [],
   "source": [
    "datos_b1 = imglandsat_b1.read(1)\n",
    "datos_b1"
   ]
  },
  {
   "cell_type": "code",
   "execution_count": null,
   "id": "f84adea3",
   "metadata": {},
   "outputs": [],
   "source": [
    "imglandsat_b1.bounds"
   ]
  },
  {
   "cell_type": "code",
   "execution_count": null,
   "id": "556fcb70",
   "metadata": {},
   "outputs": [],
   "source": [
    "imglandsat_b1.crs\n",
    "# https://epsg.org/crs_32620/WGS-84-UTM-zone-20N.html"
   ]
  },
  {
   "cell_type": "code",
   "execution_count": null,
   "id": "ea17f6c0",
   "metadata": {},
   "outputs": [],
   "source": [
    "imglandsat_b1.transform"
   ]
  },
  {
   "cell_type": "code",
   "execution_count": null,
   "id": "94da0b85",
   "metadata": {},
   "outputs": [],
   "source": [
    "imglandsat_b1.width"
   ]
  },
  {
   "cell_type": "code",
   "execution_count": null,
   "id": "95dfef8f",
   "metadata": {},
   "outputs": [],
   "source": [
    "imglandsat_b1.height"
   ]
  },
  {
   "cell_type": "code",
   "execution_count": null,
   "id": "993d80e8",
   "metadata": {},
   "outputs": [],
   "source": [
    "imglandsat_b1.transform * (0, 0)"
   ]
  },
  {
   "cell_type": "markdown",
   "id": "3c1a0f45",
   "metadata": {},
   "source": [
    "- Vamos a leer todas las bandas de la imagen: veamos el archivo de metadatos"
   ]
  },
  {
   "cell_type": "code",
   "execution_count": null,
   "id": "daf659cd",
   "metadata": {},
   "outputs": [],
   "source": [
    "bandas = 'B1 B2 B3 B4 B5 B6 B7 B8 B9 B10 B11'.split()\n",
    "\n",
    "imagenes = []\n",
    "\n",
    "for banda in bandas:\n",
    "    nom_archi = f'datos/geo/landsat/LC08_L1TP_227081_20191012_20191018_01_T1/LC08_L1TP_227081_20191012_20191018_01_T1_{banda}.TIF'\n",
    "    img = rio.open(nom_archi)\n",
    "    imagenes.append(img)"
   ]
  },
  {
   "cell_type": "code",
   "execution_count": null,
   "id": "69babe7d",
   "metadata": {},
   "outputs": [],
   "source": [
    "imagenes"
   ]
  },
  {
   "cell_type": "code",
   "execution_count": null,
   "id": "8e6e1017",
   "metadata": {},
   "outputs": [],
   "source": []
  },
  {
   "cell_type": "markdown",
   "id": "bbf542ee",
   "metadata": {},
   "source": [
    "### Calculamos el NDVI\n",
    "\n",
    "$$\\text{NDVI}=\\frac{NIR - R}{NIR + R}$$\n",
    "\n",
    "In Landsat 4-7, $$\\text{NDVI} = \\frac{Band 4 - Band 3}{Band 4 + Band 3}$$.\n",
    "\n",
    "In Landsat 8-9, $$\\text{NDVI} = \\frac{Band 5 - Band 4}{Band 5 + Band 4}$$."
   ]
  },
  {
   "cell_type": "code",
   "execution_count": null,
   "id": "e892f315-0b77-4e5f-9697-a611e6e363bd",
   "metadata": {},
   "outputs": [],
   "source": [
    "banda4 = imagenes[3].read(1).astype('float64')\n",
    "banda5 = imagenes[4].read(1).astype('float64')\n",
    "banda5[5000,5000]"
   ]
  },
  {
   "cell_type": "code",
   "execution_count": null,
   "id": "6e452ccc-3648-4d95-910f-3faed4855f13",
   "metadata": {},
   "outputs": [],
   "source": [
    "nir = banda5\n",
    "red = banda4"
   ]
  },
  {
   "cell_type": "code",
   "execution_count": null,
   "id": "890db626-6646-4eab-96f9-09f9555a27ae",
   "metadata": {},
   "outputs": [],
   "source": [
    "nume = nir - red\n",
    "deno = red + nir\n",
    "\n",
    "# >>>> ignoramos division por cero o valores inválidos <<<<\n",
    "np.seterr(divide = \"ignore\", invalid=\"ignore\")\n",
    "\n",
    "ndvi = nume/deno"
   ]
  },
  {
   "cell_type": "code",
   "execution_count": null,
   "id": "1fb20fc1-68ff-440b-9ce4-8cefaa72f4ab",
   "metadata": {},
   "outputs": [],
   "source": [
    "ndvi[ndvi > 1] = np.nan\n",
    "ndvi[ndvi < -1] = np.nan"
   ]
  },
  {
   "cell_type": "code",
   "execution_count": null,
   "id": "6135ccce-7151-441c-8257-f508244e8508",
   "metadata": {},
   "outputs": [],
   "source": [
    "show(ndvi, cmap='Greens')"
   ]
  },
  {
   "cell_type": "code",
   "execution_count": null,
   "id": "b10c9e80-9695-4020-9c5d-c845065ea540",
   "metadata": {},
   "outputs": [],
   "source": [
    "# Plot raster\n",
    "plt.imshow(ndvi)\n",
    "plt.title(\"NDVI\")\n",
    "plt.show()"
   ]
  },
  {
   "cell_type": "code",
   "execution_count": null,
   "id": "454f7256-c59e-4add-b2d8-2afde052b55f",
   "metadata": {},
   "outputs": [],
   "source": [
    "#export ndvi image\n",
    "ndviImage = rio.open('ndviImage.tiff', 'w', driver='Gtiff',\n",
    "                          width=imagenes[3].width, height=imagenes[3].height,\n",
    "                          count=1,\n",
    "                          crs=imagenes[3].crs,\n",
    "                          transform=imagenes[3].transform,\n",
    "                          dtype='float64'                  \n",
    "                         )\n",
    "ndviImage.write(ndvi,1) #ndvi\n",
    "ndviImage.close()"
   ]
  },
  {
   "cell_type": "code",
   "execution_count": null,
   "id": "35223674-3fff-4e4c-973d-6a776e7a4f31",
   "metadata": {},
   "outputs": [],
   "source": []
  },
  {
   "cell_type": "code",
   "execution_count": null,
   "id": "74e5c402-28a3-4e43-8040-107e7656cf44",
   "metadata": {},
   "outputs": [],
   "source": [
    "np.geterr()"
   ]
  },
  {
   "cell_type": "code",
   "execution_count": null,
   "id": "0f8f1d20-d5b6-490b-b4b6-0babfad883e7",
   "metadata": {},
   "outputs": [],
   "source": []
  }
 ],
 "metadata": {
  "kernelspec": {
   "display_name": "tig",
   "language": "python",
   "name": "tig"
  },
  "language_info": {
   "codemirror_mode": {
    "name": "ipython",
    "version": 3
   },
   "file_extension": ".py",
   "mimetype": "text/x-python",
   "name": "python",
   "nbconvert_exporter": "python",
   "pygments_lexer": "ipython3",
   "version": "3.9.13"
  }
 },
 "nbformat": 4,
 "nbformat_minor": 5
}
