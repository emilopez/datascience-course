{
 "cells": [
  {
   "cell_type": "markdown",
   "id": "e9d2f8b1",
   "metadata": {
    "slideshow": {
     "slide_type": "slide"
    }
   },
   "source": [
    "# Programación en TIG con Python\n",
    "\n",
    "- Docente: Emiliano López \n",
    "- Mail: emiliano.lopez@gmail.com \n",
    "- Telegram: @EmiLopez\n",
    "\n"
   ]
  },
  {
   "cell_type": "markdown",
   "id": "f0f36079",
   "metadata": {
    "slideshow": {
     "slide_type": "fragment"
    }
   },
   "source": [
    "- Hoy:\n",
    "    - Presentación del curso\n",
    "    - Presentación de uds\n",
    "    - Instalación y primeros pasos"
   ]
  },
  {
   "cell_type": "markdown",
   "id": "7921f921",
   "metadata": {
    "slideshow": {
     "slide_type": "subslide"
    }
   },
   "source": [
    "# Presentación del curso"
   ]
  },
  {
   "cell_type": "markdown",
   "id": "c9ce2a98",
   "metadata": {
    "slideshow": {
     "slide_type": "fragment"
    }
   },
   "source": [
    "- Clases 1 vez a la semana: martes **o** jueves 15 a 17hs"
   ]
  },
  {
   "cell_type": "markdown",
   "id": "fad60824",
   "metadata": {
    "slideshow": {
     "slide_type": "fragment"
    }
   },
   "source": [
    "**Organización del contenido:** dividido en tres unidades\n",
    "\n",
    "- Unidad 1: Algoritmia computacional"
   ]
  },
  {
   "cell_type": "markdown",
   "id": "67e57255",
   "metadata": {
    "slideshow": {
     "slide_type": "fragment"
    }
   },
   "source": [
    "- Unidad 2: Procesamiento y visualización de datos"
   ]
  },
  {
   "cell_type": "markdown",
   "id": "f9d12578",
   "metadata": {
    "slideshow": {
     "slide_type": "fragment"
    }
   },
   "source": [
    "- Unidad 3: Datos geoespaciales"
   ]
  },
  {
   "cell_type": "markdown",
   "id": "551625b1",
   "metadata": {
    "slideshow": {
     "slide_type": "subslide"
    }
   },
   "source": [
    "# Evaluación \n",
    "Una por cada unidad y un trabajo final. Cada evaluación será entrega informe/software y exposición oral del trabajo realizado. Se evaluará:\n",
    "\n",
    "- **Temas abarcados:** incluye los temas vistos?\n",
    "- **Complejidad:** es acorde al nivel?\n",
    "- **Resolución:** la solución desarrollada es la mejor?\n",
    "- **Claridad en la exposición**\n",
    "\n",
    "**Calificación final:** \n",
    "- 70 puntos suman las 3 unidades \n",
    "- 30 puntos el trabajo final\n",
    "- **Aprobado:** promedio > 70% de la nota (ninguna instancia < 60%) y asistencia del 80%\n",
    "\n",
    "**Finalización:** fines de noviembre"
   ]
  }
 ],
 "metadata": {
  "celltoolbar": "Slideshow",
  "kernelspec": {
   "display_name": "Python 3 (ipykernel)",
   "language": "python",
   "name": "python3"
  },
  "language_info": {
   "codemirror_mode": {
    "name": "ipython",
    "version": 3
   },
   "file_extension": ".py",
   "mimetype": "text/x-python",
   "name": "python",
   "nbconvert_exporter": "python",
   "pygments_lexer": "ipython3",
   "version": "3.8.5"
  }
 },
 "nbformat": 4,
 "nbformat_minor": 5
}
