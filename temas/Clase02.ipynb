{
 "cells": [
  {
   "cell_type": "markdown",
   "metadata": {
    "slideshow": {
     "slide_type": "slide"
    }
   },
   "source": [
    "# Clase 2\n",
    "Docente: Emiliano López - ``emiliano.lopez@gmail.com`` \n",
    "- Fecha: 01-09-2022\n",
    "- Unidad 1:\n",
    "    - Instalación Anaconda \n",
    "    - Modos de ejecución de código: IDEs (Spyder), interactivos (ipython/python), jupyter lab / notebook\n",
    "    - Obtener ayuda en el intérprete: ``help()``, ``dir()``\n",
    "    - Tipos de datos: ``int, str, float``\n",
    "    - Contenedor: lista (``list``)\n",
    "    - Parseo de datos `str`: método ``split``\n",
    "    - Ciclo repetitivo: ``for``\n",
    "- Bibliografía\n",
    "    - Tutorial de Python oficial, pag. 8 a 14..\n",
    "    - Introducción al desarrollo de software, Tecnicatura Universitaria en Software Libre. Unidad 1 y 2.."
   ]
  },
  {
   "cell_type": "markdown",
   "metadata": {
    "slideshow": {
     "slide_type": "subslide"
    }
   },
   "source": [
    "## Jupyter notebook\n",
    "\n",
    "Tiene características particulares que lo hacen atractivo para el análisis exploratorio de datos. La similitud respecto al intérprete interactivo se corresponde que no necesitamos poner ``print()`` para que nos muestre el contenido de alguna variable o contenedor. \n",
    "\n",
    "Tenemos dos tipos de celdas: \n",
    "\n",
    "- Markdown: texto con caracteres especiales que le dan formato\n",
    "- Código: ingresamos código python (soporta otros lenguajes también)\n",
    "\n",
    "Parados con el cursor en la celda se ejecuta al presionar ``shift-enter``.\n",
    "\n",
    "Markdown soporta código Latex (para escribir ecuaciones matemáticas). Lo escribimos entre doble signo pesos:\n",
    "\n",
    "$$\\int_0^\\inf 2*\\pi$$\n",
    "\n",
    "Ahora voy a mostrar como elevar un número x al cuadrado: $x^2$"
   ]
  },
  {
   "cell_type": "code",
   "execution_count": null,
   "metadata": {
    "slideshow": {
     "slide_type": "subslide"
    }
   },
   "outputs": [],
   "source": [
    "# mostrar un simple mensaje\n",
    "print(\"Hola\")"
   ]
  },
  {
   "cell_type": "markdown",
   "metadata": {
    "slideshow": {
     "slide_type": "slide"
    }
   },
   "source": [
    "## Variables y tipos\n",
    "\n",
    "La unidad básica para almacenar información son las variables, para ello usamos una asignación con el signo igual, donde a su izquierda escribimos el identificador y a su derecha el valor que pretendemos asignarle. \n",
    "Veamos tres variables con identificador ``a, b, c``."
   ]
  },
  {
   "cell_type": "code",
   "execution_count": 5,
   "metadata": {
    "slideshow": {
     "slide_type": "fragment"
    }
   },
   "outputs": [
    {
     "name": "stdout",
     "output_type": "stream",
     "text": [
      "holA 3 1.2\n",
      "holA\n",
      "3\n",
      "1.2\n"
     ]
    }
   ],
   "source": [
    "a = \"holA\"\n",
    "b = 3\n",
    "c = 1.2\n",
    "\n",
    "print(a, b, c)\n",
    "\n",
    "print(a)\n",
    "print(b)\n",
    "print(c)"
   ]
  },
  {
   "cell_type": "code",
   "execution_count": 8,
   "metadata": {},
   "outputs": [
    {
     "name": "stdout",
     "output_type": "stream",
     "text": [
      "4.2\n"
     ]
    }
   ],
   "source": [
    "resultado = b + c\n",
    "\n",
    "print(resultado)"
   ]
  },
  {
   "cell_type": "code",
   "execution_count": 14,
   "metadata": {},
   "outputs": [
    {
     "ename": "TypeError",
     "evalue": "can't multiply sequence by non-int of type 'float'",
     "output_type": "error",
     "traceback": [
      "\u001b[0;31m---------------------------------------------------------------------------\u001b[0m",
      "\u001b[0;31mTypeError\u001b[0m                                 Traceback (most recent call last)",
      "Input \u001b[0;32mIn [14]\u001b[0m, in \u001b[0;36m<module>\u001b[0;34m\u001b[0m\n\u001b[0;32m----> 1\u001b[0m resultado2 \u001b[38;5;241m=\u001b[39m \u001b[43ma\u001b[49m\u001b[38;5;241;43m*\u001b[39;49m\u001b[43mc\u001b[49m\n\u001b[1;32m      2\u001b[0m \u001b[38;5;28mprint\u001b[39m(resultado2)\n",
      "\u001b[0;31mTypeError\u001b[0m: can't multiply sequence by non-int of type 'float'"
     ]
    }
   ],
   "source": [
    "resultado2 = a*c\n",
    "print(resultado2)"
   ]
  },
  {
   "cell_type": "markdown",
   "metadata": {
    "slideshow": {
     "slide_type": "fragment"
    }
   },
   "source": [
    "Cada variable tiene un tipo de dato asociado, este tipo de dato tiene que ver con las operaciones que podremos realizar. Veamos como obtener el tipo de dato de cada variable:"
   ]
  },
  {
   "cell_type": "code",
   "execution_count": 15,
   "metadata": {
    "slideshow": {
     "slide_type": "fragment"
    }
   },
   "outputs": [
    {
     "data": {
      "text/plain": [
       "str"
      ]
     },
     "execution_count": 15,
     "metadata": {},
     "output_type": "execute_result"
    }
   ],
   "source": [
    "type(a)"
   ]
  },
  {
   "cell_type": "code",
   "execution_count": 16,
   "metadata": {
    "slideshow": {
     "slide_type": "fragment"
    }
   },
   "outputs": [
    {
     "data": {
      "text/plain": [
       "int"
      ]
     },
     "execution_count": 16,
     "metadata": {},
     "output_type": "execute_result"
    }
   ],
   "source": [
    "type(b)"
   ]
  },
  {
   "cell_type": "code",
   "execution_count": 17,
   "metadata": {
    "slideshow": {
     "slide_type": "fragment"
    }
   },
   "outputs": [
    {
     "data": {
      "text/plain": [
       "float"
      ]
     },
     "execution_count": 17,
     "metadata": {},
     "output_type": "execute_result"
    }
   ],
   "source": [
    "type(c)"
   ]
  },
  {
   "cell_type": "code",
   "execution_count": 25,
   "metadata": {
    "slideshow": {
     "slide_type": "fragment"
    }
   },
   "outputs": [],
   "source": [
    "a = \"blablalbaasdasdfsdgsdfg\""
   ]
  },
  {
   "cell_type": "code",
   "execution_count": 30,
   "metadata": {
    "slideshow": {
     "slide_type": "fragment"
    }
   },
   "outputs": [
    {
     "data": {
      "text/plain": [
       "23"
      ]
     },
     "execution_count": 30,
     "metadata": {},
     "output_type": "execute_result"
    }
   ],
   "source": [
    "len(a)"
   ]
  },
  {
   "cell_type": "markdown",
   "metadata": {
    "slideshow": {
     "slide_type": "subslide"
    }
   },
   "source": [
    "También podemos hacer asignaciones múltiples en una sola línea, acá por ejemplo asignamos:\n",
    "- el número ``10`` a la variable ``a``\n",
    "- la cadena ``black bird`` a la variable ``b``\n",
    "- el número ``3.1415`` a la variable ``c``"
   ]
  },
  {
   "cell_type": "code",
   "execution_count": null,
   "metadata": {
    "slideshow": {
     "slide_type": "fragment"
    }
   },
   "outputs": [],
   "source": [
    "a,b,c = 10, \"black bird\", 3.1415"
   ]
  },
  {
   "cell_type": "code",
   "execution_count": 31,
   "metadata": {},
   "outputs": [],
   "source": [
    "una_variable = 10, \"black bird\", 3.1415"
   ]
  },
  {
   "cell_type": "code",
   "execution_count": 32,
   "metadata": {},
   "outputs": [
    {
     "data": {
      "text/plain": [
       "tuple"
      ]
     },
     "execution_count": 32,
     "metadata": {},
     "output_type": "execute_result"
    }
   ],
   "source": [
    "type(una_variable)"
   ]
  },
  {
   "cell_type": "markdown",
   "metadata": {
    "slideshow": {
     "slide_type": "fragment"
    }
   },
   "source": [
    "**¿de qué tipo es el contenedor si almacenamos las 3 variables de la derecha bajo un único identificador en vez de tres?**"
   ]
  },
  {
   "cell_type": "markdown",
   "metadata": {
    "slideshow": {
     "slide_type": "subslide"
    }
   },
   "source": [
    "Así como leímos un archivo y se cargó en un contenedor de tipo lista, podemos crear manualmente una lista combinando diferente tipos de datos:"
   ]
  },
  {
   "cell_type": "code",
   "execution_count": 33,
   "metadata": {
    "slideshow": {
     "slide_type": "fragment"
    }
   },
   "outputs": [],
   "source": [
    "curso = [\"dolina\", 38, \"fontanarosa\", 39, \"azurduy\", 3.1415,  \"fermat\", 22]"
   ]
  },
  {
   "cell_type": "markdown",
   "metadata": {
    "slideshow": {
     "slide_type": "fragment"
    }
   },
   "source": [
    "Vemos qué tipo de dato es el almacenado en la posición dos de la lista ``curso``"
   ]
  },
  {
   "cell_type": "code",
   "execution_count": 36,
   "metadata": {
    "slideshow": {
     "slide_type": "fragment"
    }
   },
   "outputs": [
    {
     "data": {
      "text/plain": [
       "int"
      ]
     },
     "execution_count": 36,
     "metadata": {},
     "output_type": "execute_result"
    }
   ],
   "source": [
    "type(curso[1])"
   ]
  },
  {
   "cell_type": "markdown",
   "metadata": {
    "slideshow": {
     "slide_type": "slide"
    }
   },
   "source": [
    "## Archivos de texto en python\n",
    "\n",
    "Vamos a cargar en nuestro programa el contenido de un archivo, esta acción es denominada lectura. Para eso son necesarias dos acciones:\n",
    "- apertura\n",
    "- lectura\n",
    "\n",
    "Para abrirlo usamos la función ``open`` y entre comillas debemos poner la ruta al archivo al que pretendemos acceder.\n",
    "**OJO: dependiendo de tu sistema operativo es el formato de la ruta que debemos poner**"
   ]
  },
  {
   "cell_type": "code",
   "execution_count": 46,
   "metadata": {
    "slideshow": {
     "slide_type": "subslide"
    }
   },
   "outputs": [],
   "source": [
    "archi = open(\"datos/queloscumplas.txt\")\n",
    "contenido = archi.readlines()"
   ]
  },
  {
   "cell_type": "markdown",
   "metadata": {
    "slideshow": {
     "slide_type": "fragment"
    }
   },
   "source": [
    "En contenido tenemos un contenedor, accedemos a cada elemento poniendo entre corchetes una posición (índice numérico). El primero corresponde a la posición 0, por lo tanto si son N renglones, tendremos entre 0 y N-1."
   ]
  },
  {
   "cell_type": "code",
   "execution_count": 47,
   "metadata": {},
   "outputs": [
    {
     "data": {
      "text/plain": [
       "list"
      ]
     },
     "execution_count": 47,
     "metadata": {},
     "output_type": "execute_result"
    }
   ],
   "source": [
    "type(contenido)"
   ]
  },
  {
   "cell_type": "code",
   "execution_count": 50,
   "metadata": {
    "slideshow": {
     "slide_type": "fragment"
    }
   },
   "outputs": [
    {
     "data": {
      "text/plain": [
       "'2002-12-03 03:41:17\\n'"
      ]
     },
     "execution_count": 50,
     "metadata": {},
     "output_type": "execute_result"
    }
   ],
   "source": [
    "# accedemos al sexto elemento\n",
    "contenido[0]"
   ]
  },
  {
   "cell_type": "code",
   "execution_count": 49,
   "metadata": {
    "slideshow": {
     "slide_type": "fragment"
    }
   },
   "outputs": [
    {
     "data": {
      "text/plain": [
       "'1997-03-19 05:42:08\\n'"
      ]
     },
     "execution_count": 49,
     "metadata": {},
     "output_type": "execute_result"
    }
   ],
   "source": [
    "# con índice negativo accedemos al último\n",
    "contenido[-1]"
   ]
  },
  {
   "cell_type": "code",
   "execution_count": 58,
   "metadata": {
    "slideshow": {
     "slide_type": "fragment"
    }
   },
   "outputs": [
    {
     "data": {
      "text/plain": [
       "'1988-12-27 23:42:35\\n'"
      ]
     },
     "execution_count": 58,
     "metadata": {},
     "output_type": "execute_result"
    }
   ],
   "source": [
    "# vemos la cantidad de elementos de la lista\n",
    "# en este caso equivale a la cantidad de renglones del archivo\n",
    "n = len(contenido)\n",
    "\n",
    "# con esto obtengo el elemento de la mitad, \n",
    "# la // es el operador de divisón entera\n",
    "mitad = n // 2 - 1\n",
    "contenido[mitad]"
   ]
  },
  {
   "cell_type": "code",
   "execution_count": null,
   "metadata": {
    "slideshow": {
     "slide_type": "fragment"
    }
   },
   "outputs": [],
   "source": [
    "# otra forma de acceder al último elemento\n",
    "contenido[n-1]"
   ]
  },
  {
   "cell_type": "markdown",
   "metadata": {
    "slideshow": {
     "slide_type": "slide"
    }
   },
   "source": [
    "## Slices (porciones/rebanadas)\n",
    "\n",
    "Podemos extraer una porción de la lista si le decimos entre qué índices: índice inicial y último. ¿Incluye el último?"
   ]
  },
  {
   "cell_type": "code",
   "execution_count": 59,
   "metadata": {
    "slideshow": {
     "slide_type": "fragment"
    }
   },
   "outputs": [
    {
     "data": {
      "text/plain": [
       "['1997-02-20 22:27:32\\n',\n",
       " '1995-08-31 22:49:53\\n',\n",
       " '1988-05-02 22:26:04\\n',\n",
       " '2004-03-30 12:52:35\\n',\n",
       " '1983-12-27 00:58:19\\n']"
      ]
     },
     "execution_count": 59,
     "metadata": {},
     "output_type": "execute_result"
    }
   ],
   "source": [
    "contenido[10:15]"
   ]
  },
  {
   "cell_type": "code",
   "execution_count": 60,
   "metadata": {
    "slideshow": {
     "slide_type": "fragment"
    }
   },
   "outputs": [
    {
     "data": {
      "text/plain": [
       "['1984-05-23 07:50:00\\n',\n",
       " '1996-08-22 05:12:59\\n',\n",
       " '1989-10-23 09:49:39\\n',\n",
       " '1984-10-11 16:07:34\\n',\n",
       " '2012-07-15 08:15:21\\n']"
      ]
     },
     "execution_count": 60,
     "metadata": {},
     "output_type": "execute_result"
    }
   ],
   "source": [
    "contenido[15:20]"
   ]
  },
  {
   "cell_type": "code",
   "execution_count": 61,
   "metadata": {
    "slideshow": {
     "slide_type": "fragment"
    }
   },
   "outputs": [
    {
     "data": {
      "text/plain": [
       "['1997-02-20 22:27:32\\n',\n",
       " '1995-08-31 22:49:53\\n',\n",
       " '1988-05-02 22:26:04\\n',\n",
       " '2004-03-30 12:52:35\\n',\n",
       " '1983-12-27 00:58:19\\n',\n",
       " '1984-05-23 07:50:00\\n',\n",
       " '1996-08-22 05:12:59\\n',\n",
       " '1989-10-23 09:49:39\\n',\n",
       " '1984-10-11 16:07:34\\n',\n",
       " '2012-07-15 08:15:21\\n']"
      ]
     },
     "execution_count": 61,
     "metadata": {},
     "output_type": "execute_result"
    }
   ],
   "source": [
    "contenido[10:20]"
   ]
  },
  {
   "cell_type": "code",
   "execution_count": 68,
   "metadata": {},
   "outputs": [
    {
     "data": {
      "text/plain": [
       "['1999-05-26 14:58:08\\n',\n",
       " '1987-09-23 16:59:29\\n',\n",
       " '2008-08-07 15:38:57\\n',\n",
       " '2011-03-11 11:25:35\\n',\n",
       " '2011-08-20 02:10:51\\n',\n",
       " '2003-09-24 13:24:06\\n',\n",
       " '1994-05-26 05:39:46\\n',\n",
       " '2002-12-25 08:20:12\\n',\n",
       " '2007-06-26 09:16:30\\n',\n",
       " '1997-03-19 05:42:08\\n']"
      ]
     },
     "execution_count": 68,
     "metadata": {},
     "output_type": "execute_result"
    }
   ],
   "source": [
    "contenido[-10:]"
   ]
  },
  {
   "cell_type": "code",
   "execution_count": 70,
   "metadata": {
    "slideshow": {
     "slide_type": "fragment"
    }
   },
   "outputs": [],
   "source": [
    "# Así veríamos la primera fecha\n",
    "la_primera = contenido[0]"
   ]
  },
  {
   "cell_type": "code",
   "execution_count": 76,
   "metadata": {},
   "outputs": [],
   "source": [
    "fecha_separada = la_primera.split(sep=\"-\")"
   ]
  },
  {
   "cell_type": "code",
   "execution_count": 77,
   "metadata": {},
   "outputs": [],
   "source": [
    "anio = fecha_separada[0]"
   ]
  },
  {
   "cell_type": "code",
   "execution_count": 79,
   "metadata": {},
   "outputs": [
    {
     "data": {
      "text/plain": [
       "2002"
      ]
     },
     "execution_count": 79,
     "metadata": {},
     "output_type": "execute_result"
    }
   ],
   "source": [
    "anio = int(anio)\n",
    "anio"
   ]
  },
  {
   "cell_type": "code",
   "execution_count": 82,
   "metadata": {},
   "outputs": [
    {
     "data": {
      "text/plain": [
       "47"
      ]
     },
     "execution_count": 82,
     "metadata": {},
     "output_type": "execute_result"
    }
   ],
   "source": [
    "# minuto\n",
    "minuto = int(contenido[4].split(\":\")[1])\n",
    "minuto"
   ]
  },
  {
   "cell_type": "code",
   "execution_count": 84,
   "metadata": {},
   "outputs": [
    {
     "name": "stdout",
     "output_type": "stream",
     "text": [
      "1997-02-20 22:27:32\n",
      "\n"
     ]
    },
    {
     "data": {
      "text/plain": [
       "'20 22'"
      ]
     },
     "execution_count": 84,
     "metadata": {},
     "output_type": "execute_result"
    }
   ],
   "source": [
    "# con un slice nos quedamos con dia y la hora\n",
    "print(contenido[10])\n",
    "contenido[10][8:13]"
   ]
  },
  {
   "cell_type": "markdown",
   "metadata": {
    "slideshow": {
     "slide_type": "slide"
    }
   },
   "source": [
    "## Ciclos repetitivos/iterativos\n",
    "\n",
    "Como la vida es corta necesitamos ciclos repetitivos. Veamos uno a uno todos los elementos de la lista que creamos previamente:"
   ]
  },
  {
   "cell_type": "code",
   "execution_count": 86,
   "metadata": {},
   "outputs": [
    {
     "name": "stdout",
     "output_type": "stream",
     "text": [
      "e\n",
      "n\n",
      "e\n",
      "r\n",
      "o\n",
      " \n",
      "f\n",
      "e\n",
      "b\n",
      "r\n",
      "e\n",
      "r\n",
      "o\n"
     ]
    }
   ],
   "source": [
    "meses = \"enero febrero\"\n",
    "for letra in meses:\n",
    "    print(letra)"
   ]
  },
  {
   "cell_type": "code",
   "execution_count": 85,
   "metadata": {
    "slideshow": {
     "slide_type": "fragment"
    }
   },
   "outputs": [
    {
     "name": "stdout",
     "output_type": "stream",
     "text": [
      "dolina\n",
      "38\n",
      "fontanarosa\n",
      "39\n",
      "azurduy\n",
      "3.1415\n",
      "fermat\n",
      "22\n"
     ]
    }
   ],
   "source": [
    "for elemento in curso:\n",
    "    print(elemento)"
   ]
  },
  {
   "cell_type": "markdown",
   "metadata": {
    "slideshow": {
     "slide_type": "fragment"
    }
   },
   "source": [
    "El ciclo previo se denomina ``for`` y va asignando uno a uno los elementos de la lista curso a la variable ``elemento``. \n",
    "La particularidad de **Python** es que cada acción que deba ejecutarse dentro del ciclo for se indica con cuatro espacios. En el siguiente ejemplo, vemos que una vez que termina el ciclo muestra se ejecuta la línea ``print(\"Arlt\")``."
   ]
  },
  {
   "cell_type": "code",
   "execution_count": 89,
   "metadata": {
    "slideshow": {
     "slide_type": "fragment"
    }
   },
   "outputs": [
    {
     "name": "stdout",
     "output_type": "stream",
     "text": [
      "dolina\n",
      "38\n",
      "fontanarosa\n",
      "39\n",
      "azurduy\n",
      "3.1415\n",
      "fermat\n",
      "22\n",
      "Arlt\n"
     ]
    }
   ],
   "source": [
    "for elemento in curso:\n",
    "    print(elemento)\n",
    "print(\"Arlt\")"
   ]
  },
  {
   "cell_type": "markdown",
   "metadata": {
    "slideshow": {
     "slide_type": "subslide"
    }
   },
   "source": [
    "**Observemos atentamente** el cambio que se produce si dejamos 4 espacios en el ``print`` y por ende pasa a estar dentro del ciclo repetitivo:"
   ]
  },
  {
   "cell_type": "code",
   "execution_count": null,
   "metadata": {
    "slideshow": {
     "slide_type": "fragment"
    }
   },
   "outputs": [],
   "source": [
    "for elemento in curso:\n",
    "    print(elemento)\n",
    "    print(\"Arlt\")"
   ]
  },
  {
   "cell_type": "markdown",
   "metadata": {
    "slideshow": {
     "slide_type": "slide"
    }
   },
   "source": [
    "## Parseando datos\n",
    "\n",
    "Vamos a excluir y/o seleccionar datos del archivo usando el método ``split()`` que se aplica a cadenas (``str``):"
   ]
  },
  {
   "cell_type": "code",
   "execution_count": 91,
   "metadata": {
    "slideshow": {
     "slide_type": "fragment"
    }
   },
   "outputs": [
    {
     "name": "stdout",
     "output_type": "stream",
     "text": [
      "2002-12-03 17\n",
      "2010-07-03 45\n",
      "2004-07-31 07\n",
      "1995-01-07 53\n",
      "1997-12-18 11\n",
      "2006-12-26 55\n",
      "1986-10-18 07\n",
      "1989-12-20 29\n",
      "1985-09-23 59\n",
      "1983-06-20 02\n"
     ]
    }
   ],
   "source": [
    "for renglon in contenido[0:10]:\n",
    "    fecha, hora = renglon.split()\n",
    "    h,m,s = hora.split(\":\")\n",
    "    print(fecha, s)"
   ]
  },
  {
   "cell_type": "code",
   "execution_count": 93,
   "metadata": {},
   "outputs": [
    {
     "name": "stdout",
     "output_type": "stream",
     "text": [
      "12\n",
      "07\n",
      "07\n",
      "01\n",
      "12\n",
      "12\n",
      "10\n",
      "12\n",
      "09\n",
      "06\n"
     ]
    }
   ],
   "source": [
    "for una_fecha in contenido[:10]:\n",
    "    anio, mes, todo = una_fecha.split(\"-\")\n",
    "    print(mes)"
   ]
  },
  {
   "cell_type": "code",
   "execution_count": 98,
   "metadata": {},
   "outputs": [
    {
     "name": "stdout",
     "output_type": "stream",
     "text": [
      "79\n"
     ]
    }
   ],
   "source": [
    "en_diciembre = 0\n",
    "for una_fecha in contenido:\n",
    "    anio, mes, todo = una_fecha.split(\"-\")\n",
    "    if mes == \"12\":\n",
    "        en_diciembre = en_diciembre + 1\n",
    "print(en_diciembre)"
   ]
  }
 ],
 "metadata": {
  "celltoolbar": "Slideshow",
  "kernelspec": {
   "display_name": "Python 3 (ipykernel)",
   "language": "python",
   "name": "python3"
  },
  "language_info": {
   "codemirror_mode": {
    "name": "ipython",
    "version": 3
   },
   "file_extension": ".py",
   "mimetype": "text/x-python",
   "name": "python",
   "nbconvert_exporter": "python",
   "pygments_lexer": "ipython3",
   "version": "3.8.5"
  }
 },
 "nbformat": 4,
 "nbformat_minor": 4
}
